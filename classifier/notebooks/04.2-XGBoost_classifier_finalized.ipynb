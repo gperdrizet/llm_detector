{
 "cells": [
  {
   "cell_type": "markdown",
   "metadata": {},
   "source": [
    "# XGBoost classifier"
   ]
  },
  {
   "cell_type": "code",
   "execution_count": 1,
   "metadata": {},
   "outputs": [
    {
     "name": "stdout",
     "output_type": "stream",
     "text": [
      "/mnt/arkk/llm_detector/classifier\n"
     ]
    }
   ],
   "source": [
    "# Change working directory to parent so we can import as we would from main.py\n",
    "%cd ..\n",
    "\n",
    "import itertools\n",
    "from pickle import dump\n",
    "from sklearn.ensemble import GradientBoostingClassifier\n",
    "from sklearn.model_selection import KFold, cross_validate\n",
    "from sklearn.metrics import accuracy_score, log_loss, confusion_matrix, ConfusionMatrixDisplay\n",
    "\n",
    "import classes.data as data_classes\n",
    "import configuration as config"
   ]
  },
  {
   "cell_type": "markdown",
   "metadata": {},
   "source": [
    "## Off-the-shelf XGBoost classifier"
   ]
  },
  {
   "cell_type": "code",
   "execution_count": 2,
   "metadata": {},
   "outputs": [],
   "source": [
    "# Instantiate the data class\n",
    "data = data_classes.TrainTestData(\n",
    "    training_data = config.COMBINED_SCORED_HANS_TRAINING_DATA_PR_TFIDF,\n",
    "    testing_data = config.COMBINED_SCORED_HANS_TESTING_DATA_PR_TFIDF\n",
    ")\n",
    "\n",
    "scoring_metrics = ['neg_brier_score', 'neg_log_loss', 'accuracy']\n",
    "\n",
    "# Cross validate the model\n",
    "model = GradientBoostingClassifier()\n",
    "kfold = KFold(n_splits = 10, shuffle = True, random_state = 7)\n",
    "\n",
    "results = cross_validate(\n",
    "    model, data.training.scale_features(), \n",
    "    data.training.encode_labels(), \n",
    "    scoring = scoring_metrics, \n",
    "    cv = kfold, \n",
    "    return_train_score = True\n",
    ")\n"
   ]
  },
  {
   "cell_type": "code",
   "execution_count": 7,
   "metadata": {},
   "outputs": [
    {
     "name": "stdout",
     "output_type": "stream",
     "text": [
      "CV train neg_brier_score: -0.08 +/- 0.000\n",
      "CV test neg_brier_score: -0.08 +/- 0.001\n",
      "CV train neg_log_loss: -0.26 +/- 0.001\n",
      "CV test neg_log_loss: -0.27 +/- 0.003\n",
      "CV train accuracy: 0.89 +/- 0.000\n",
      "CV test accuracy: 0.88 +/- 0.002\n"
     ]
    }
   ],
   "source": [
    "# Evaluate predictions\n",
    "for scoring_metric, dataset in itertools.product(scoring_metrics, ['train', 'test']):\n",
    "\n",
    "    metric_mean = round(results[f'{dataset}_{scoring_metric}'].mean(), 2)\n",
    "    metric_stdev = round(results[f'{dataset}_{scoring_metric}'].std(), 3)\n",
    "\n",
    "    print(f'CV {dataset} {scoring_metric}: {metric_mean:.2f} +/- {metric_stdev:.3f}')"
   ]
  },
  {
   "cell_type": "code",
   "execution_count": 8,
   "metadata": {},
   "outputs": [
    {
     "name": "stdout",
     "output_type": "stream",
     "text": [
      "\n",
      "Confusion matrix:\n",
      "[[16425  1386]\n",
      " [ 1812  4579]]\n",
      "\n",
      "Normalized confusion matrix:\n"
     ]
    },
    {
     "data": {
      "image/png": "[encoded data removed]",
      "text/plain": [
       "<Figure size 640x480 with 2 Axes>"
      ]
     },
     "metadata": {},
     "output_type": "display_data"
    }
   ],
   "source": [
    "# Fit model on all of the training data\n",
    "model = GradientBoostingClassifier()\n",
    "model.fit(data.training.scale_features(), data.training.encode_labels())\n",
    "\n",
    "# Make predictions for test data\n",
    "predictions = model.predict(data.testing.scale_features())\n",
    "\n",
    "# Calculate confusion matrix\n",
    "cm = confusion_matrix(data.testing.encode_labels(), predictions)\n",
    "print('\\nConfusion matrix:')\n",
    "print(cm)\n",
    "\n",
    "# Normalize confusion matrix\n",
    "print(f'\\nNormalized confusion matrix:')\n",
    "\n",
    "normalized_cm = cm / sum(sum(cm))\n",
    "_ = ConfusionMatrixDisplay.from_estimator(\n",
    "    model, \n",
    "    data.testing.scale_features(), \n",
    "    data.testing.encode_labels(), \n",
    "    normalize = 'all'\n",
    ")"
   ]
  },
  {
   "cell_type": "markdown",
   "metadata": {},
   "source": [
    "## Save the model"
   ]
  },
  {
   "cell_type": "code",
   "execution_count": null,
   "metadata": {},
   "outputs": [],
   "source": [
    "output_file = config.XGB_CLASSIFIER\n",
    "\n",
    "with open(output_file, 'wb') as file:\n",
    "    dump(model, file, protocol = 5)"
   ]
  }
 ],
 "metadata": {
  "kernelspec": {
   "display_name": ".venv",
   "language": "python",
   "name": "python3"
  },
  "language_info": {
   "codemirror_mode": {
    "name": "ipython",
    "version": 3
   },
   "file_extension": ".py",
   "mimetype": "text/x-python",
   "name": "python",
   "nbconvert_exporter": "python",
   "pygments_lexer": "ipython3",
   "version": "3.8.10"
  }
 },
 "nbformat": 4,
 "nbformat_minor": 2
}
