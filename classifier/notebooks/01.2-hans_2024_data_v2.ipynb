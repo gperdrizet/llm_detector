{
 "cells": [
  {
   "cell_type": "markdown",
   "metadata": {},
   "source": [
    "# Perplexity ratio data\n",
    "\n",
    "Let's take a look at the perplexity ratio score data generated with the v2 scoring algorithm."
   ]
  },
  {
   "cell_type": "code",
   "execution_count": 1,
   "metadata": {},
   "outputs": [
    {
     "name": "stdout",
     "output_type": "stream",
     "text": [
      "/mnt/arkk/llm_detector/classifier\n"
     ]
    }
   ],
   "source": [
    "# Change working directory to parent so we can import as we would from main.py\n",
    "%cd ..\n",
    "\n",
    "import pickle\n",
    "# import numpy as np\n",
    "# import pandas as pd\n",
    "# import matplotlib.pyplot as plt\n",
    "\n",
    "import classes.feature_engineering as feature_engineering\n",
    "import functions.notebook_helper as helper_funcs\n",
    "import functions.notebook_plotting as plot_funcs\n",
    "import configuration as config"
   ]
  },
  {
   "cell_type": "markdown",
   "metadata": {},
   "source": [
    "Load the scored text fragment data from the Hans 2024 corpus:"
   ]
  },
  {
   "cell_type": "code",
   "execution_count": 2,
   "metadata": {},
   "outputs": [
    {
     "name": "stdout",
     "output_type": "stream",
     "text": [
      "\n",
      "Top level attributes: ['raw_input_data_file_name', 'all', 'dataset_names', 'generation_models', 'training', 'testing']\n",
      "\n",
      "Data loaded from: /mnt/arkk/llm_detector/classifier/data/hans_2024/falcon-7b_scores_v2.1.json\n",
      "Original dataset sources: ['cc_news']\n",
      "\n",
      "data.all contains: ['combined', 'synthetic_combined', 'human', 'falcon7']\n",
      "Training/testing data contains: ['combined', 'cc_news']\n",
      "\n",
      "Example dataset data.training.pubmed:\n",
      "\n",
      "<class 'pandas.core.frame.DataFrame'>\n",
      "RangeIndex: 1553 entries, 0 to 1552\n",
      "Data columns (total 14 columns):\n",
      " #   Column                    Non-Null Count  Dtype  \n",
      "---  ------                    --------------  -----  \n",
      " 0   Source record num         1553 non-null   int64  \n",
      " 1   Fragment length (words)   1553 non-null   int64  \n",
      " 2   Fragment length (tokens)  1553 non-null   int64  \n",
      " 3   Dataset                   1553 non-null   object \n",
      " 4   Source                    1553 non-null   object \n",
      " 5   Generator                 1553 non-null   object \n",
      " 6   String                    1553 non-null   object \n",
      " 7   Perplexity                1553 non-null   float64\n",
      " 8   Cross-perplexity          1553 non-null   float64\n",
      " 9   Perplexity ratio score    1553 non-null   float64\n",
      " 10  Reader time (seconds)     1553 non-null   float64\n",
      " 11  Writer time (seconds)     1553 non-null   float64\n",
      " 12  Reader peak memory (GB)   1553 non-null   float64\n",
      " 13  Writer peak memory (GB)   1553 non-null   float64\n",
      "dtypes: float64(7), int64(3), object(4)\n",
      "memory usage: 170.0+ KB\n"
     ]
    }
   ],
   "source": [
    "# Instantiate feature engineering class instance. This will read the input data file\n",
    "# from the configuration file by default, load the data, fix d-types, shuffle, train\n",
    "# test split and then put data from each original source dataset as well as the\n",
    "# aggregate into nested holder class instances for easy access later.\n",
    "data = feature_engineering.FeatureEngineering()\n",
    "\n",
    "# What datasets do we have?\n",
    "print(f'\\nTop level attributes: {list(vars(data).keys())}\\n')\n",
    "print(f'Data loaded from: {data.raw_input_data_file_name}')\n",
    "print(f'Original dataset sources: {list(data.dataset_names)}\\n')\n",
    "print(f'data.all contains: {list(vars(data.all).keys())}')\n",
    "print(f'Training/testing data contains: {list(vars(data.training).keys())}\\n')\n",
    "\n",
    "print(f'Example dataset data.training.pubmed:\\n')\n",
    "data.training.cc_news.info()"
   ]
  },
  {
   "cell_type": "markdown",
   "metadata": {},
   "source": [
    "## Data exploration\n",
    "Make some plots with perplexity ratio score and related variables see what we are working with:"
   ]
  },
  {
   "cell_type": "code",
   "execution_count": 3,
   "metadata": {},
   "outputs": [
    {
     "name": "stderr",
     "output_type": "stream",
     "text": [
      "/mnt/arkk/llm_detector/.venv/lib/python3.8/site-packages/numpy/lib/histograms.py:883: RuntimeWarning: invalid value encountered in divide\n",
      "  return n/db/n.sum(), bin_edges\n"
     ]
    },
    {
     "ename": "AttributeError",
     "evalue": "'AllDataHolder' object has no attribute 'synthetic'",
     "output_type": "error",
     "traceback": [
      "\u001b[0;31m---------------------------------------------------------------------------\u001b[0m",
      "\u001b[0;31mAttributeError\u001b[0m                            Traceback (most recent call last)",
      "Cell \u001b[0;32mIn[3], line 1\u001b[0m\n\u001b[0;32m----> 1\u001b[0m \u001b[43mhelper_funcs\u001b[49m\u001b[38;5;241;43m.\u001b[39;49m\u001b[43mdata_exploration_plot\u001b[49m\u001b[43m(\u001b[49m\u001b[43mdata\u001b[49m\u001b[43m)\u001b[49m\u001b[38;5;241m.\u001b[39mshow()\n",
      "File \u001b[0;32m/mnt/arkk/llm_detector/classifier/functions/notebook_helper.py:251\u001b[0m, in \u001b[0;36mdata_exploration_plot\u001b[0;34m(data)\u001b[0m\n\u001b[1;32m    249\u001b[0m axs[\u001b[38;5;241m0\u001b[39m,\u001b[38;5;241m0\u001b[39m]\u001b[38;5;241m.\u001b[39mset_title(\u001b[38;5;124m'\u001b[39m\u001b[38;5;124mPerplexity ratio score distribution\u001b[39m\u001b[38;5;124m'\u001b[39m)\n\u001b[1;32m    250\u001b[0m axs[\u001b[38;5;241m0\u001b[39m,\u001b[38;5;241m0\u001b[39m]\u001b[38;5;241m.\u001b[39mhist(data\u001b[38;5;241m.\u001b[39mall\u001b[38;5;241m.\u001b[39mhuman[\u001b[38;5;124m'\u001b[39m\u001b[38;5;124mPerplexity ratio score\u001b[39m\u001b[38;5;124m'\u001b[39m], density \u001b[38;5;241m=\u001b[39m \u001b[38;5;28;01mTrue\u001b[39;00m, facecolor \u001b[38;5;241m=\u001b[39m \u001b[38;5;124m'\u001b[39m\u001b[38;5;124mgreen\u001b[39m\u001b[38;5;124m'\u001b[39m, label \u001b[38;5;241m=\u001b[39m \u001b[38;5;124m'\u001b[39m\u001b[38;5;124mHuman text\u001b[39m\u001b[38;5;124m'\u001b[39m, alpha \u001b[38;5;241m=\u001b[39m \u001b[38;5;241m0.5\u001b[39m)\n\u001b[0;32m--> 251\u001b[0m axs[\u001b[38;5;241m0\u001b[39m,\u001b[38;5;241m0\u001b[39m]\u001b[38;5;241m.\u001b[39mhist(\u001b[43mdata\u001b[49m\u001b[38;5;241;43m.\u001b[39;49m\u001b[43mall\u001b[49m\u001b[38;5;241;43m.\u001b[39;49m\u001b[43msynthetic\u001b[49m[\u001b[38;5;124m'\u001b[39m\u001b[38;5;124mPerplexity ratio score\u001b[39m\u001b[38;5;124m'\u001b[39m], density \u001b[38;5;241m=\u001b[39m \u001b[38;5;28;01mTrue\u001b[39;00m, facecolor \u001b[38;5;241m=\u001b[39m \u001b[38;5;124m'\u001b[39m\u001b[38;5;124mblue\u001b[39m\u001b[38;5;124m'\u001b[39m, label \u001b[38;5;241m=\u001b[39m \u001b[38;5;124m'\u001b[39m\u001b[38;5;124mSynthetic text\u001b[39m\u001b[38;5;124m'\u001b[39m, alpha \u001b[38;5;241m=\u001b[39m \u001b[38;5;241m0.5\u001b[39m)\n\u001b[1;32m    252\u001b[0m axs[\u001b[38;5;241m0\u001b[39m,\u001b[38;5;241m0\u001b[39m]\u001b[38;5;241m.\u001b[39mlegend(loc \u001b[38;5;241m=\u001b[39m \u001b[38;5;124m'\u001b[39m\u001b[38;5;124mupper left\u001b[39m\u001b[38;5;124m'\u001b[39m)\n\u001b[1;32m    253\u001b[0m axs[\u001b[38;5;241m0\u001b[39m,\u001b[38;5;241m0\u001b[39m]\u001b[38;5;241m.\u001b[39mset_xlabel(\u001b[38;5;124m'\u001b[39m\u001b[38;5;124mPerplexity ratio score\u001b[39m\u001b[38;5;124m'\u001b[39m)\n",
      "\u001b[0;31mAttributeError\u001b[0m: 'AllDataHolder' object has no attribute 'synthetic'"
     ]
    },
    {
     "data": {
      "image/png": "[encoded data removed]",
      "text/plain": [
       "<Figure size 800x800 with 4 Axes>"
      ]
     },
     "metadata": {},
     "output_type": "display_data"
    }
   ],
   "source": [
    "helper_funcs.data_exploration_plot(data).show()"
   ]
  },
  {
   "cell_type": "markdown",
   "metadata": {},
   "source": [
    "Looks OK. Perplexity ratio score distributions look clearly different. Also, there is some fragment length dependence of perplexity ratio score.\n",
    "\n",
    "Let's take a look at text fragments from the individual original source datasets. Make a boxplot showing the difference in perplexity ratio score distribution for human and synthetic text fragments, split by the original dataset source."
   ]
  },
  {
   "cell_type": "code",
   "execution_count": null,
   "metadata": {},
   "outputs": [],
   "source": [
    "helper_funcs.perplexity_ratio_by_dataset(data).show()"
   ]
  },
  {
   "cell_type": "markdown",
   "metadata": {},
   "source": [
    "OK, all look fairly similar-ish. One source dataset doesn't obviously stand out as much better or worse than the others in terms of separation of human vs synthetic perplexity ratio distribution.\n",
    "\n",
    "Make another boxplot showing the difference in perplexity ratio score distribution for human and synthetic text fragments, this time with the fragments binned by length. This will give us a cleaner picture of how well the perplexity ratio score separates fragments in different length regimes."
   ]
  },
  {
   "cell_type": "code",
   "execution_count": null,
   "metadata": {},
   "outputs": [],
   "source": [
    "helper_funcs.perplexity_ratio_by_length(data).show()"
   ]
  },
  {
   "cell_type": "markdown",
   "metadata": {},
   "source": [
    "Interesting - the difference in means looks fairly constant across the length bins. But, the perplexity ratio scores from shorter fragments have much larger spread. Let's generate confidence intervals around the difference in means for each length bin."
   ]
  },
  {
   "cell_type": "code",
   "execution_count": null,
   "metadata": {},
   "outputs": [],
   "source": [
    "helper_funcs.mean_difference_ci(data)"
   ]
  },
  {
   "cell_type": "markdown",
   "metadata": {},
   "source": [
    "OK, cool - at least in terms of central tendency, the perplexity ratio score does a pretty good job of separating human from synthetic fragments."
   ]
  },
  {
   "cell_type": "markdown",
   "metadata": {},
   "source": [
    "## Save the data"
   ]
  },
  {
   "cell_type": "code",
   "execution_count": null,
   "metadata": {},
   "outputs": [],
   "source": [
    "# Persist the feature engineering class instance so we can\n",
    "# use it in other notebooks\n",
    "output_file = config.FEATURE_ENGINEERING_CLASS_INSTANCE\n",
    "\n",
    "with open(output_file, 'wb') as file:\n",
    "    pickle.dump(data, file)\n",
    "\n",
    "# Round trip it, just to make sure everything worked as expected\n",
    "input_file = config.FEATURE_ENGINEERING_CLASS_INSTANCE\n",
    "\n",
    "with open(input_file, 'rb') as file:\n",
    "    loaded_data = pickle.load(file)\n",
    "\n",
    "# What datasets do we have?\n",
    "print(f'\\nTop level attributes: {list(vars(loaded_data).keys())}\\n')\n",
    "print(f'Data loaded from: {loaded_data.raw_input_data_file_name}')\n",
    "print(f'Original dataset sources: {list(loaded_data.dataset_names)}\\n')\n",
    "print(f'data.all contains: {list(vars(loaded_data.all).keys())}')\n",
    "print(f'Training/testing data contains: {list(vars(loaded_data.training).keys())}\\n')\n",
    "\n",
    "print(f'Example dataset data.training.pubmed:\\n')\n",
    "loaded_data.training.cc_news.info()"
   ]
  },
  {
   "cell_type": "code",
   "execution_count": null,
   "metadata": {},
   "outputs": [],
   "source": []
  }
 ],
 "metadata": {
  "kernelspec": {
   "display_name": ".venv",
   "language": "python",
   "name": "python3"
  },
  "language_info": {
   "codemirror_mode": {
    "name": "ipython",
    "version": 3
   },
   "file_extension": ".py",
   "mimetype": "text/x-python",
   "name": "python",
   "nbconvert_exporter": "python",
   "pygments_lexer": "ipython3",
   "version": "3.8.10"
  }
 },
 "nbformat": 4,
 "nbformat_minor": 2
}
