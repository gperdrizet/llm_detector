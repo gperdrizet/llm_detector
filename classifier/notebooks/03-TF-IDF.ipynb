{
 "cells": [
  {
   "cell_type": "markdown",
   "metadata": {},
   "source": [
    "# TF-IDF"
   ]
  },
  {
   "cell_type": "code",
   "execution_count": 2,
   "metadata": {},
   "outputs": [
    {
     "name": "stdout",
     "output_type": "stream",
     "text": [
      "/mnt/arkk/llm_detector/classifier\n"
     ]
    }
   ],
   "source": [
    "# Change working directory to parent so we can import as we would from main.py\n",
    "%cd ..\n",
    "\n",
    "import pandas as pd\n",
    "import matplotlib.pyplot as plt\n",
    "from sklearn.feature_extraction.text import TfidfVectorizer # type: ignore\n",
    "\n",
    "import configuration as config\n",
    "import functions.data_manipulation as data_funcs"
   ]
  },
  {
   "cell_type": "markdown",
   "metadata": {},
   "source": [
    "First, let's parse and collect the data from the original Hans et al. (2024) Binoculars publication. Get some metadata about text length and composition and get the data from all six datasets into one dataframe for easy handling."
   ]
  },
  {
   "cell_type": "code",
   "execution_count": 3,
   "metadata": {},
   "outputs": [
    {
     "name": "stdout",
     "output_type": "stream",
     "text": [
      "Parsed falcon7, cc_news data: 1169 records\n",
      "Parsed falcon7, cnn data: 876 records\n",
      "Parsed falcon7, pubmed data: 112 records\n",
      "Parsed llama2-13b, cc_news data: 4714 records\n",
      "Parsed llama2-13b, cnn data: 2208 records\n",
      "Parsed llama2-13b, pubmed data: 2198 records\n"
     ]
    }
   ],
   "source": [
    "# Dict describing datasets to load\n",
    "hans_datasets = {\n",
    "    'falcon7': {\n",
    "        'cc_news': 'cc_news/cc_news-falcon7.jsonl',\n",
    "        'cnn': 'cnn/cnn-falcon7.jsonl',\n",
    "        'pubmed': 'pubmed/pubmed-falcon7.jsonl'\n",
    "    },\n",
    "    'llama2-13b': {\n",
    "        'cc_news': 'cc_news/cc_news-llama2_13.jsonl',\n",
    "        'cnn': 'cnn/cnn-llama2_13.jsonl',\n",
    "        'pubmed': 'pubmed/pubmed-llama2_13.jsonl' \n",
    "    }\n",
    "}\n",
    "\n",
    "# Output dict for collected & combined datasets\n",
    "hans_data = {\n",
    "    'Generation model': [],\n",
    "    'Data source': [],\n",
    "    'Human text length (words)': [],\n",
    "    'Human text': [],\n",
    "    'Synthetic text': [],\n",
    "    'Synthetic text length (words)': [],\n",
    "    'Human text fraction': []\n",
    "}\n",
    "\n",
    "# Output dict for datasets wide metadata\n",
    "hans_metadata = {\n",
    "    'Generation model': [],\n",
    "    'Data source': [],\n",
    "    'Records': [],\n",
    "    'Mean human text length (words)': [],\n",
    "    'Human text length STD': [],\n",
    "    'Mean synthetic text length (words)': [],\n",
    "    'Synthetic text length STD': [],\n",
    "    'Mean human text fraction': []\n",
    "}\n",
    "\n",
    "# Parse, collect and combine data and get metadata\n",
    "metadata_df, data_df = data_funcs.parse_hans_data(\n",
    "    hans_datasets = hans_datasets, \n",
    "    hans_data = hans_data, \n",
    "    hans_metadata = hans_metadata,\n",
    "    binoculars_data_path = config.HANS_DATA_PATH\n",
    ")\n",
    "\n",
    "# Save as JSON for later use\n",
    "output_file = f'{config.HANS_DATA_PATH}/aggregated_hans_data.jsonl'\n",
    "\n",
    "with open(output_file, 'w') as file:\n",
    "    file.write(data_df.to_json(lines=True, orient='records'))"
   ]
  },
  {
   "cell_type": "markdown",
   "metadata": {},
   "source": [
    "Now get TF-IDF across the datasets and sum over terms:"
   ]
  },
  {
   "cell_type": "code",
   "execution_count": 4,
   "metadata": {},
   "outputs": [],
   "source": [
    "human_tfidf_df, synthetic_tfidf_df = data_funcs.tf_idf(data_df = data_df)\n",
    "\n",
    "human_tfidf_df_sum = human_tfidf_df.sum(axis = 1)\n",
    "synthetic_tfidf_df_sum = synthetic_tfidf_df.sum(axis = 1)\n",
    "\n",
    "human_tfidf_df_mean = human_tfidf_df_sum / len(human_tfidf_df_sum)\n",
    "synthetic_tfidf_df_mean = synthetic_tfidf_df_sum / len(synthetic_tfidf_df_sum)"
   ]
  },
  {
   "cell_type": "code",
   "execution_count": 5,
   "metadata": {},
   "outputs": [
    {
     "data": {
      "image/png": "[encoded data removed]",
      "text/plain": [
       "<Figure size 700x300 with 2 Axes>"
      ]
     },
     "metadata": {},
     "output_type": "display_data"
    }
   ],
   "source": [
    "fig, axs = plt.subplots(\n",
    "    1,\n",
    "    2,\n",
    "    figsize = (7, 3),\n",
    "    gridspec_kw = {'wspace':0.3, 'hspace':0.5}\n",
    ")\n",
    "\n",
    "axs[0].set_title('Term-wise TF-IDF sum')\n",
    "axs[0].hist(human_tfidf_df_sum, facecolor = 'green', label = 'Human text', alpha = 0.5)\n",
    "axs[0].hist(synthetic_tfidf_df_sum, facecolor = 'blue', label = 'Synthetic text', alpha = 0.5)\n",
    "axs[0].set_xlabel('TF-IDF sum')\n",
    "axs[0].set_ylabel('Count')\n",
    "axs[0].legend(loc = 'upper right')\n",
    "\n",
    "axs[1].set_title('Term-wise TF-IDF mean')\n",
    "axs[1].hist(human_tfidf_df_mean, facecolor = 'green', label = 'Human text', alpha = 0.5)\n",
    "axs[1].hist(synthetic_tfidf_df_mean, facecolor = 'blue', label = 'Synthetic text', alpha = 0.5)\n",
    "axs[1].set_xlabel('TF-IDF mean')\n",
    "axs[1].set_ylabel('Count')\n",
    "axs[1].legend(loc = 'upper right')\n",
    "\n",
    "plt.show()"
   ]
  },
  {
   "cell_type": "markdown",
   "metadata": {},
   "source": [
    "OK, cool - this actualy looks really good - the distributions are clearly different. Problem is, we can't calculate these seperatly for an unknown fragment. Let's do corpus wide TF-IDF and then use the term-wise TF-IDF values to score the text fragments and see if the distributions are still different."
   ]
  },
  {
   "cell_type": "code",
   "execution_count": 6,
   "metadata": {},
   "outputs": [],
   "source": [
    "# Get lists of human and synthetic text and combine\n",
    "human_texts=list(data_df['Human text'])\n",
    "synthetic_texts=list(data_df['Synthetic text'])\n",
    "\n",
    "texts = human_texts + synthetic_texts"
   ]
  },
  {
   "cell_type": "code",
   "execution_count": 7,
   "metadata": {},
   "outputs": [],
   "source": [
    "# Set-up sklearn TFIDF vectorizer\n",
    "tfidf_vectorizer = TfidfVectorizer(input = 'content')\n",
    "\n",
    "# Get TFIDF values and convert to dataframe\n",
    "tfidf_vector = tfidf_vectorizer.fit_transform(texts)\n",
    "\n",
    "tfidf_df = pd.DataFrame(\n",
    "    tfidf_vector.toarray(),\n",
    "    columns = tfidf_vectorizer.get_feature_names_out()\n",
    ")"
   ]
  },
  {
   "cell_type": "code",
   "execution_count": 8,
   "metadata": {},
   "outputs": [],
   "source": [
    "# Get corpus wide mean by word\n",
    "tfidf_df_sum = tfidf_df.sum(axis = 1)\n",
    "tfidf_df_mean = tfidf_df_sum / len(tfidf_df_sum)"
   ]
  },
  {
   "cell_type": "code",
   "execution_count": 9,
   "metadata": {},
   "outputs": [
    {
     "data": {
      "image/png": "[encoded data removed]",
      "text/plain": [
       "<Figure size 640x480 with 1 Axes>"
      ]
     },
     "metadata": {},
     "output_type": "display_data"
    }
   ],
   "source": [
    "plt.title('Corpus wide term-wise TF-IDF mean')\n",
    "plt.hist(tfidf_df_mean, color = 'black')\n",
    "plt.xlabel('TF-IDF mean')\n",
    "plt.ylabel('Count')\n",
    "\n",
    "plt.show()"
   ]
  },
  {
   "cell_type": "markdown",
   "metadata": {},
   "source": [
    "OK, now make a dictionary to use as a look-up table whith the word as the key and the TF-IDF mean as the value."
   ]
  },
  {
   "cell_type": "code",
   "execution_count": 10,
   "metadata": {},
   "outputs": [],
   "source": [
    "tfidf_lut = dict(zip(tfidf_df.columns, tfidf_df_mean))"
   ]
  },
  {
   "cell_type": "markdown",
   "metadata": {},
   "source": [
    "Now score the text fragments from the training data. Think we have to do this with a loop."
   ]
  },
  {
   "cell_type": "code",
   "execution_count": 12,
   "metadata": {},
   "outputs": [
    {
     "name": "stdout",
     "output_type": "stream",
     "text": [
      "<class 'pandas.core.frame.DataFrame'>\n",
      "Index: 75250 entries, 0 to 75249\n",
      "Data columns (total 8 columns):\n",
      " #   Column                    Non-Null Count  Dtype  \n",
      "---  ------                    --------------  -----  \n",
      " 0   Fragment length (tokens)  75250 non-null  int64  \n",
      " 1   Dataset                   75250 non-null  object \n",
      " 2   Source                    75250 non-null  object \n",
      " 3   String                    75250 non-null  object \n",
      " 4   Perplexity                75250 non-null  float64\n",
      " 5   Cross-perplexity          75250 non-null  float64\n",
      " 6   Perplexity ratio score    75250 non-null  float64\n",
      " 7   Kullback-Leibler score    75198 non-null  float64\n",
      "dtypes: float64(4), int64(1), object(3)\n",
      "memory usage: 5.2+ MB\n"
     ]
    }
   ],
   "source": [
    "# Load the data\n",
    "data_df = pd.read_json(config.COMBINED_SCORED_HANS_DATA_KL)\n",
    "data_df.info()"
   ]
  },
  {
   "cell_type": "code",
   "execution_count": 17,
   "metadata": {},
   "outputs": [
    {
     "name": "stdout",
     "output_type": "stream",
     "text": [
      "empty vocabulary; perhaps the documents only contain stop words\n",
      "empty vocabulary; perhaps the documents only contain stop words\n",
      "empty vocabulary; perhaps the documents only contain stop words\n",
      "empty vocabulary; perhaps the documents only contain stop words\n",
      "empty vocabulary; perhaps the documents only contain stop words\n",
      "empty vocabulary; perhaps the documents only contain stop words\n",
      "empty vocabulary; perhaps the documents only contain stop words\n",
      "empty vocabulary; perhaps the documents only contain stop words\n",
      "empty vocabulary; perhaps the documents only contain stop words\n",
      "empty vocabulary; perhaps the documents only contain stop words\n",
      "empty vocabulary; perhaps the documents only contain stop words\n",
      "empty vocabulary; perhaps the documents only contain stop words\n",
      "empty vocabulary; perhaps the documents only contain stop words\n",
      "empty vocabulary; perhaps the documents only contain stop words\n",
      "empty vocabulary; perhaps the documents only contain stop words\n",
      "empty vocabulary; perhaps the documents only contain stop words\n",
      "empty vocabulary; perhaps the documents only contain stop words\n",
      "empty vocabulary; perhaps the documents only contain stop words\n",
      "empty vocabulary; perhaps the documents only contain stop words\n",
      "empty vocabulary; perhaps the documents only contain stop words\n",
      "empty vocabulary; perhaps the documents only contain stop words\n",
      "empty vocabulary; perhaps the documents only contain stop words\n",
      "empty vocabulary; perhaps the documents only contain stop words\n",
      "empty vocabulary; perhaps the documents only contain stop words\n",
      "empty vocabulary; perhaps the documents only contain stop words\n",
      "empty vocabulary; perhaps the documents only contain stop words\n",
      "empty vocabulary; perhaps the documents only contain stop words\n",
      "empty vocabulary; perhaps the documents only contain stop words\n",
      "empty vocabulary; perhaps the documents only contain stop words\n",
      "empty vocabulary; perhaps the documents only contain stop words\n",
      "empty vocabulary; perhaps the documents only contain stop words\n",
      "empty vocabulary; perhaps the documents only contain stop words\n",
      "empty vocabulary; perhaps the documents only contain stop words\n",
      "empty vocabulary; perhaps the documents only contain stop words\n",
      "empty vocabulary; perhaps the documents only contain stop words\n",
      "empty vocabulary; perhaps the documents only contain stop words\n",
      "empty vocabulary; perhaps the documents only contain stop words\n",
      "empty vocabulary; perhaps the documents only contain stop words\n",
      "empty vocabulary; perhaps the documents only contain stop words\n",
      "empty vocabulary; perhaps the documents only contain stop words\n",
      "empty vocabulary; perhaps the documents only contain stop words\n",
      "empty vocabulary; perhaps the documents only contain stop words\n",
      "empty vocabulary; perhaps the documents only contain stop words\n",
      "empty vocabulary; perhaps the documents only contain stop words\n",
      "empty vocabulary; perhaps the documents only contain stop words\n",
      "empty vocabulary; perhaps the documents only contain stop words\n",
      "empty vocabulary; perhaps the documents only contain stop words\n",
      "empty vocabulary; perhaps the documents only contain stop words\n",
      "empty vocabulary; perhaps the documents only contain stop words\n"
     ]
    }
   ],
   "source": [
    "# Holders for TF-IDF values\n",
    "human_fragment_tfidf_sums = []\n",
    "synthetic_fragment_tfidf_sums = []\n",
    "\n",
    "# Set-up sklearn TFIDF vectorizer\n",
    "tfidf_vectorizer = TfidfVectorizer(input = 'content')\n",
    "\n",
    "# Loop on dataframe rows\n",
    "for index, row in data_df.iterrows():\n",
    "    \n",
    "    tfidf_sum = 0\n",
    "\n",
    "    try:\n",
    "\n",
    "        # Get tfidf vector\n",
    "        tfidf_vector = tfidf_vectorizer.fit_transform([row['String']])\n",
    "        feature_names = tfidf_vectorizer.get_feature_names_out()\n",
    "\n",
    "        for feature_name in feature_names:\n",
    "            if feature_name in tfidf_lut.keys():\n",
    "                tfidf_sum += tfidf_lut[feature_name]\n",
    "\n",
    "        if row['Source'] == 'Human':\n",
    "            human_fragment_tfidf_sums.append(tfidf_sum)\n",
    "\n",
    "        elif row['Source'] == 'Synthetic':\n",
    "            synthetic_fragment_tfidf_sums.append(tfidf_sum)\n",
    "\n",
    "    except ValueError as e:\n",
    "        print(e)\n",
    "\n"
   ]
  },
  {
   "cell_type": "code",
   "execution_count": 18,
   "metadata": {},
   "outputs": [
    {
     "data": {
      "text/plain": [
       "0"
      ]
     },
     "execution_count": 18,
     "metadata": {},
     "output_type": "execute_result"
    }
   ],
   "source": [
    "len(synthetic_fragment_tfidf_sums)"
   ]
  },
  {
   "cell_type": "markdown",
   "metadata": {},
   "source": [
    "Ok - so, not working. Need to learn a bit more about what is in the vectorizer's vocabulary. Also have a concern about data leakage here - we should probably save some data for true out-of-sample test/validation. Not sure the best way to do that, since the text fragments are sampled from the records in the Hans 2024 corpus, but we can probably figure something out. "
   ]
  }
 ],
 "metadata": {
  "kernelspec": {
   "display_name": ".venv",
   "language": "python",
   "name": "python3"
  },
  "language_info": {
   "codemirror_mode": {
    "name": "ipython",
    "version": 3
   },
   "file_extension": ".py",
   "mimetype": "text/x-python",
   "name": "python",
   "nbconvert_exporter": "python",
   "pygments_lexer": "ipython3",
   "version": "3.8.10"
  }
 },
 "nbformat": 4,
 "nbformat_minor": 2
}
