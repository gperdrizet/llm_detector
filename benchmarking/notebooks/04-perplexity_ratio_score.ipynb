{
 "cells": [
  {
   "cell_type": "markdown",
   "metadata": {},
   "source": [
    "# Perplexity ratio score exploratory data analysis"
   ]
  },
  {
   "cell_type": "code",
   "execution_count": 1,
   "metadata": {},
   "outputs": [
    {
     "name": "stdout",
     "output_type": "stream",
     "text": [
      "/mnt/arkk/llm_detector/benchmarking\n"
     ]
    }
   ],
   "source": [
    "# Change working directory to parent so we can import as we would from main.py\n",
    "%cd ..\n",
    "\n",
    "import seaborn as sns\n",
    "import numpy as np\n",
    "import pandas as pd\n",
    "import matplotlib.pyplot as plt\n",
    "from statistics import mean\n",
    "\n",
    "import configuration as config\n",
    "import functions.data_manipulation as data_funcs\n",
    "import functions.plotting as plot_funcs"
   ]
  },
  {
   "cell_type": "markdown",
   "metadata": {},
   "source": [
    "## 1. Benchmark data"
   ]
  },
  {
   "cell_type": "code",
   "execution_count": 2,
   "metadata": {},
   "outputs": [
    {
     "name": "stdout",
     "output_type": "stream",
     "text": [
      "<class 'pandas.core.frame.DataFrame'>\n",
      "Index: 4547 entries, 0 to 5002\n",
      "Data columns (total 16 columns):\n",
      " #   Column                  Non-Null Count  Dtype  \n",
      "---  ------                  --------------  -----  \n",
      " 0   Iteration               4547 non-null   float64\n",
      " 1   Scoring model           4547 non-null   object \n",
      " 2   Device                  4547 non-null   object \n",
      " 3   Perplexity ratio score  4547 non-null   float64\n",
      " 4   Perplexity              4547 non-null   float64\n",
      " 5   Cross-perplexity        4547 non-null   float64\n",
      " 6   Input length (words)    4547 non-null   float64\n",
      " 7   Input length (tokens)   4547 non-null   float64\n",
      " 8   Data source             4547 non-null   object \n",
      " 9   Generation model        4547 non-null   object \n",
      " 10  Reader model            4547 non-null   object \n",
      " 11  Writer model            4547 non-null   object \n",
      " 12  Reader device           4547 non-null   object \n",
      " 13  Writer device           4547 non-null   object \n",
      " 14  Author                  4547 non-null   object \n",
      " 15  Text                    4547 non-null   object \n",
      "dtypes: float64(6), object(10)\n",
      "memory usage: 603.9+ KB\n"
     ]
    }
   ],
   "source": [
    "# Load the data\n",
    "data_df = pd.read_json(f'{config.BENCHMARKING_DATA_PATH}/perplexity_ratio_model_benchmark.jsonl', lines=True, orient='records')\n",
    "\n",
    "# Translation dict for column names\n",
    "column_renaming_dict = {\n",
    "    'hf_model_string': 'Scoring model',\n",
    "    'perplexity_ratio_score': 'Perplexity ratio score',\n",
    "    'perplexity': 'Perplexity',\n",
    "    'cross-perplexity': 'Cross-perplexity',\n",
    "    'length_words': 'Input length (words)',\n",
    "    'length_tokens': 'Input length (tokens)',\n",
    "    'data_source': 'Data source',\n",
    "    'generating_model': 'Generation model',\n",
    "    'reader_model': 'Reader model',\n",
    "    'writer_model': 'Writer model',\n",
    "    'reader_device': 'Reader device',\n",
    "    'writer_device': 'Writer device',\n",
    "    'author': 'Author',\n",
    "    'device_map': 'Device',\n",
    "    'iteration': 'Iteration',\n",
    "    'text': 'Text'\n",
    "}\n",
    "\n",
    "# Translation dict for string values\n",
    "value_renaming_dict = {\n",
    "    'cuda:1': 'NVIDIA K80',\n",
    "    'cuda:2': 'NVIDIA k80',\n",
    "    'meta-llama/Meta-Llama-3-8B': 'LLaMA3-8B',\n",
    "    'tiiuae/falcon-7b': 'Falcon-7B',\n",
    "    'meta-llama/Llama-2-7b-hf': 'LLaMA2-7B',\n",
    "    'mistralai/Mistral-7B-v0.3': 'Mistral-7B',\n",
    "    'google/gemma-2-9b': 'Gemma2-9B',\n",
    "    'meta-llama/Meta-Llama-3-8B-instruct': 'LLaMA3-8B instruct',\n",
    "    'tiiuae/falcon-7b-instruct': 'Falcon-7B instruct',\n",
    "    'mistralai/Mistral-7B-Instruct-v0.3': 'Mistral-7B instruct',\n",
    "    'meta-llama/Llama-2-7b-chat-hf': 'LLaMA2-7b chat',\n",
    "    'google/gemma-2-9b-it': 'Gemma2-9B instruct'\n",
    "}\n",
    "\n",
    "# Translate column names and string values for pretty printing in plots\n",
    "data_df = plot_funcs.replace_strings(\n",
    "    df = data_df,\n",
    "    column_renaming_dict = column_renaming_dict,\n",
    "    value_renaming_dict = value_renaming_dict\n",
    ")\n",
    "\n",
    "# Replace string NAN and OOM values with np.NAN\n",
    "data_df = plot_funcs.clean_nan_oom(data_df)\n",
    "\n",
    "# Drop np.NAN rows\n",
    "data_df.dropna(inplace = True)\n",
    "\n",
    "# Fix some d-types\n",
    "data_df = data_df.astype({\n",
    "    'Perplexity': float,\n",
    "    'Cross-perplexity': float,\n",
    "    'Perplexity ratio score': float\n",
    "})\n",
    "\n",
    "data_df.info()"
   ]
  },
  {
   "cell_type": "code",
   "execution_count": 3,
   "metadata": {},
   "outputs": [
    {
     "data": {
      "text/html": [
       "<div>\n",
       "<style scoped>\n",
       "    .dataframe tbody tr th:only-of-type {\n",
       "        vertical-align: middle;\n",
       "    }\n",
       "\n",
       "    .dataframe tbody tr th {\n",
       "        vertical-align: top;\n",
       "    }\n",
       "\n",
       "    .dataframe thead th {\n",
       "        text-align: right;\n",
       "    }\n",
       "</style>\n",
       "<table border=\"1\" class=\"dataframe\">\n",
       "  <thead>\n",
       "    <tr style=\"text-align: right;\">\n",
       "      <th></th>\n",
       "      <th>Iteration</th>\n",
       "      <th>Scoring model</th>\n",
       "      <th>Device</th>\n",
       "      <th>Perplexity ratio score</th>\n",
       "      <th>Perplexity</th>\n",
       "      <th>Cross-perplexity</th>\n",
       "      <th>Input length (words)</th>\n",
       "      <th>Input length (tokens)</th>\n",
       "      <th>Data source</th>\n",
       "      <th>Generation model</th>\n",
       "      <th>Reader model</th>\n",
       "      <th>Writer model</th>\n",
       "      <th>Reader device</th>\n",
       "      <th>Writer device</th>\n",
       "      <th>Author</th>\n",
       "      <th>Text</th>\n",
       "    </tr>\n",
       "  </thead>\n",
       "  <tbody>\n",
       "    <tr>\n",
       "      <th>0</th>\n",
       "      <td>1.0</td>\n",
       "      <td>[meta-llama/Meta-Llama-3-8B, meta-llama/Meta-L...</td>\n",
       "      <td>[cuda:1, cuda:2]</td>\n",
       "      <td>0.767108</td>\n",
       "      <td>1.551342</td>\n",
       "      <td>2.022326</td>\n",
       "      <td>138.0</td>\n",
       "      <td>364.0</td>\n",
       "      <td>cc_news</td>\n",
       "      <td>falcon7</td>\n",
       "      <td>LLaMA3-8B</td>\n",
       "      <td>LLaMA3-8B-instruct</td>\n",
       "      <td>NVIDIA K80</td>\n",
       "      <td>NVIDIA k80</td>\n",
       "      <td>human</td>\n",
       "      <td>vs Top 10: 1-3 (L-Bisping, L-Weidman, L-Weidma...</td>\n",
       "    </tr>\n",
       "    <tr>\n",
       "      <th>1</th>\n",
       "      <td>2.0</td>\n",
       "      <td>[meta-llama/Meta-Llama-3-8B, meta-llama/Meta-L...</td>\n",
       "      <td>[cuda:1, cuda:2]</td>\n",
       "      <td>0.773936</td>\n",
       "      <td>2.313174</td>\n",
       "      <td>2.988844</td>\n",
       "      <td>219.0</td>\n",
       "      <td>272.0</td>\n",
       "      <td>pubmed</td>\n",
       "      <td>llama2-13b</td>\n",
       "      <td>LLaMA3-8B</td>\n",
       "      <td>LLaMA3-8B-instruct</td>\n",
       "      <td>NVIDIA K80</td>\n",
       "      <td>NVIDIA k80</td>\n",
       "      <td>synthetic</td>\n",
       "      <td>problem in people over 60 years old and one of...</td>\n",
       "    </tr>\n",
       "    <tr>\n",
       "      <th>2</th>\n",
       "      <td>3.0</td>\n",
       "      <td>[meta-llama/Meta-Llama-3-8B, meta-llama/Meta-L...</td>\n",
       "      <td>[cuda:1, cuda:2]</td>\n",
       "      <td>1.055911</td>\n",
       "      <td>3.332735</td>\n",
       "      <td>3.156264</td>\n",
       "      <td>87.0</td>\n",
       "      <td>108.0</td>\n",
       "      <td>cnn</td>\n",
       "      <td>llama2-13b</td>\n",
       "      <td>LLaMA3-8B</td>\n",
       "      <td>LLaMA3-8B-instruct</td>\n",
       "      <td>NVIDIA K80</td>\n",
       "      <td>NVIDIA k80</td>\n",
       "      <td>human</td>\n",
       "      <td>Ayatollah Sadegh Larijani, who heads Iran's ju...</td>\n",
       "    </tr>\n",
       "  </tbody>\n",
       "</table>\n",
       "</div>"
      ],
      "text/plain": [
       "   Iteration                                      Scoring model  \\\n",
       "0        1.0  [meta-llama/Meta-Llama-3-8B, meta-llama/Meta-L...   \n",
       "1        2.0  [meta-llama/Meta-Llama-3-8B, meta-llama/Meta-L...   \n",
       "2        3.0  [meta-llama/Meta-Llama-3-8B, meta-llama/Meta-L...   \n",
       "\n",
       "             Device  Perplexity ratio score  Perplexity  Cross-perplexity  \\\n",
       "0  [cuda:1, cuda:2]                0.767108    1.551342          2.022326   \n",
       "1  [cuda:1, cuda:2]                0.773936    2.313174          2.988844   \n",
       "2  [cuda:1, cuda:2]                1.055911    3.332735          3.156264   \n",
       "\n",
       "   Input length (words)  Input length (tokens) Data source Generation model  \\\n",
       "0                 138.0                  364.0     cc_news          falcon7   \n",
       "1                 219.0                  272.0      pubmed       llama2-13b   \n",
       "2                  87.0                  108.0         cnn       llama2-13b   \n",
       "\n",
       "  Reader model        Writer model Reader device Writer device     Author  \\\n",
       "0    LLaMA3-8B  LLaMA3-8B-instruct    NVIDIA K80    NVIDIA k80      human   \n",
       "1    LLaMA3-8B  LLaMA3-8B-instruct    NVIDIA K80    NVIDIA k80  synthetic   \n",
       "2    LLaMA3-8B  LLaMA3-8B-instruct    NVIDIA K80    NVIDIA k80      human   \n",
       "\n",
       "                                                Text  \n",
       "0  vs Top 10: 1-3 (L-Bisping, L-Weidman, L-Weidma...  \n",
       "1  problem in people over 60 years old and one of...  \n",
       "2  Ayatollah Sadegh Larijani, who heads Iran's ju...  "
      ]
     },
     "execution_count": 3,
     "metadata": {},
     "output_type": "execute_result"
    }
   ],
   "source": [
    "data_df.head(3)"
   ]
  },
  {
   "cell_type": "markdown",
   "metadata": {},
   "source": [
    "## 2. Model comparison\n",
    "### 2.1. Model self comparison\n",
    "\n",
    "First comparison to make is by model. Here, the reader and writer models are the base and instruct versions of the same model."
   ]
  },
  {
   "cell_type": "code",
   "execution_count": 14,
   "metadata": {},
   "outputs": [
    {
     "name": "stdout",
     "output_type": "stream",
     "text": [
      "t-test for difference in perplexity ratio score mean (H1: human > synthetic):\n",
      "\n",
      " Model: LLaMA3-8B, p-value = 1.5729481231979171e-63\n",
      " Model: Falcon-7B, p-value = 1.468072030319169e-94\n",
      " Model: Mistral-7B, p-value = 1.616176097989206e-36\n",
      " Model: LLaMA2-7B, p-value = 2.750820755073135e-80\n",
      " Model: Gemma2-9B, p-value = 0.0007156726011347075\n"
     ]
    }
   ],
   "source": [
    "from scipy.stats import ttest_ind\n",
    "\n",
    "# Get reader model names\n",
    "reader_models = data_df['Reader model'].unique()\n",
    "\n",
    "print('t-test for difference in perplexity ratio score mean (H1: human > synthetic):\\n')\n",
    "\n",
    "# Loop on models and run t-test\n",
    "for reader_model in reader_models:\n",
    "    human_prs = data_df['Perplexity ratio score'][(data_df['Reader model'] == reader_model) & (data_df['Author'] == 'human') ]\n",
    "    synthetic_prs = data_df['Perplexity ratio score'][(data_df['Reader model'] == reader_model) & (data_df['Author'] == 'synthetic') ]\n",
    "\n",
    "    ttest_result = ttest_ind(human_prs, synthetic_prs, alternative='greater')\n",
    "    print(f' Model: {reader_model}, p-value = {ttest_result.pvalue}')"
   ]
  },
  {
   "cell_type": "code",
   "execution_count": 15,
   "metadata": {},
   "outputs": [
    {
     "data": {
      "image/png": "[encoded data removed]",
      "text/plain": [
       "<Figure size 640x480 with 1 Axes>"
      ]
     },
     "metadata": {},
     "output_type": "display_data"
    }
   ],
   "source": [
    "ax = sns.boxplot(data = data_df, x = 'Reader model', y = 'Perplexity ratio score', hue = 'Author')\n",
    "ax.tick_params(axis = 'x', labelrotation = 45)\n",
    "plt.show()"
   ]
  },
  {
   "cell_type": "markdown",
   "metadata": {},
   "source": [
    "OK, cool - so they are all definitely different. Interestingly, we are the least confident about the difference in means for gemma2-9b (probably the most advanced model of the bunch). Looking at the plot, it's perplexity ratio scores tend to be the largest and have a bigger spread than the other models."
   ]
  },
  {
   "cell_type": "markdown",
   "metadata": {},
   "source": [
    "## 2. LLaMA3-8B"
   ]
  },
  {
   "cell_type": "code",
   "execution_count": null,
   "metadata": {},
   "outputs": [],
   "source": [
    "# Load the data\n",
    "data_df = pd.read_json(f'{config.HANS_DATA_PATH}/pubmed-scores.json')\n",
    "\n",
    "# Replace and remove string 'OOM' and 'NAN' values\n",
    "data_df.replace('NAN', np.nan, inplace = True)\n",
    "data_df.replace('OOM', np.nan, inplace = True)\n",
    "data_df.dropna(inplace = True)\n",
    "\n",
    "# Fix some d-types\n",
    "data_df = data_df.astype({\n",
    "    'Fragment length (tokens)': int, \n",
    "    'Perplexity': float,\n",
    "    'Cross-perplexity': float,\n",
    "    'Perplexity ratio score': float\n",
    "})\n",
    "\n",
    "data_df.head()"
   ]
  },
  {
   "cell_type": "code",
   "execution_count": null,
   "metadata": {},
   "outputs": [],
   "source": [
    "data_df.info()"
   ]
  },
  {
   "cell_type": "code",
   "execution_count": null,
   "metadata": {},
   "outputs": [],
   "source": [
    "human_fragments = data_df[data_df['Source'] == 'human']\n",
    "synthetic_fragments = data_df[data_df['Source'] == 'synthetic']"
   ]
  },
  {
   "cell_type": "markdown",
   "metadata": {},
   "source": [
    "### 2.1. Perplexity vs cross-perplexity"
   ]
  },
  {
   "cell_type": "code",
   "execution_count": null,
   "metadata": {},
   "outputs": [],
   "source": [
    "plt.title('Perplexity vs cross-perplexity')\n",
    "plt.scatter(human_fragments['Perplexity'], human_fragments['Cross-perplexity'], c = 'green', label = 'Human text')\n",
    "plt.scatter(synthetic_fragments['Perplexity'], synthetic_fragments['Cross-perplexity'], c = 'blue', label = 'Synthetic text')\n",
    "plt.legend(loc = 'lower right')\n",
    "plt.xlabel('Perplexity')\n",
    "plt.ylabel('Cross-perplexity')\n",
    "plt.show()"
   ]
  },
  {
   "cell_type": "markdown",
   "metadata": {},
   "source": [
    "### 2.2. Perplexity ratio score distribution"
   ]
  },
  {
   "cell_type": "code",
   "execution_count": null,
   "metadata": {},
   "outputs": [],
   "source": [
    "plt.title('Perplexity ratio score distribution')\n",
    "plt.hist(human_fragments['Perplexity ratio score'][human_fragments['Perplexity ratio score'] < 1.5], facecolor = 'green', label = 'Human text', alpha = 0.5)\n",
    "plt.hist(synthetic_fragments['Perplexity ratio score'][synthetic_fragments['Perplexity ratio score'] < 1.5], facecolor = 'blue', label = 'Synthetic text', alpha = 0.5)\n",
    "plt.legend(loc = 'upper right')\n",
    "plt.xlabel('Perplexity ratio score')\n",
    "plt.ylabel('Fragments')\n",
    "plt.show()"
   ]
  },
  {
   "cell_type": "markdown",
   "metadata": {},
   "source": [
    "### 2.3. Binoculars score by fragment length"
   ]
  },
  {
   "cell_type": "code",
   "execution_count": null,
   "metadata": {},
   "outputs": [],
   "source": [
    "plt.title('Perplexity ratio score by fragment length')\n",
    "plt.scatter(human_fragments['Fragment length (tokens)'], human_fragments['Perplexity ratio score'], c = 'green', alpha = 0.5, label = 'Human text')\n",
    "plt.scatter(synthetic_fragments['Fragment length (tokens)'], synthetic_fragments['Perplexity ratio score'], c = 'blue', alpha = 0.5, label = 'Synthetic text')\n",
    "plt.legend(loc = 'upper right')\n",
    "plt.xlabel('Fragment length (tokens)')\n",
    "plt.ylabel('Perplexity ratio score')\n",
    "plt.show()"
   ]
  },
  {
   "cell_type": "markdown",
   "metadata": {},
   "source": [
    "### 2.4. Fragment length distribution"
   ]
  },
  {
   "cell_type": "code",
   "execution_count": null,
   "metadata": {},
   "outputs": [],
   "source": [
    "plt.hist(human_fragments['Fragment length (tokens)'], facecolor = 'green', label = 'Human text', alpha = 0.5)\n",
    "plt.hist(synthetic_fragments['Fragment length (tokens)'], facecolor = 'blue', label = 'Synthetic text', alpha = 0.5)\n",
    "plt.legend(loc = 'upper right')\n",
    "plt.xlabel('Fragment length (tokens)')\n",
    "plt.ylabel('Fragments')\n",
    "plt.show()"
   ]
  }
 ],
 "metadata": {
  "kernelspec": {
   "display_name": ".venv",
   "language": "python",
   "name": "python3"
  },
  "language_info": {
   "codemirror_mode": {
    "name": "ipython",
    "version": 3
   },
   "file_extension": ".py",
   "mimetype": "text/x-python",
   "name": "python",
   "nbconvert_exporter": "python",
   "pygments_lexer": "ipython3",
   "version": "3.8.10"
  }
 },
 "nbformat": 4,
 "nbformat_minor": 2
}
