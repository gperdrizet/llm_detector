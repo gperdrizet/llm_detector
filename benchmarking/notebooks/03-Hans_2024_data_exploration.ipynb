{
 "cells": [
  {
   "cell_type": "markdown",
   "metadata": {},
   "source": [
    "# Hans et al. (2024) data exploration"
   ]
  },
  {
   "cell_type": "code",
   "execution_count": 1,
   "metadata": {},
   "outputs": [
    {
     "name": "stdout",
     "output_type": "stream",
     "text": [
      "/mnt/arkk/llm_detector/benchmarking\n"
     ]
    }
   ],
   "source": [
    "# Change working directory to parent so we can import as we would from main.py\n",
    "%cd ..\n",
    "\n",
    "import matplotlib.pyplot as plt\n",
    "from statistics import mean\n",
    "\n",
    "import configuration as config\n",
    "import functions.data_manipulation as data_funcs"
   ]
  },
  {
   "cell_type": "markdown",
   "metadata": {},
   "source": [
    "## 1. Datasets\n",
    "First, let's parse and collect the data from the original Hans et al. (2024) Binoculars publication. Get some metadata about text length and composition and get the data from all six datasets into one dataframe for easy handling."
   ]
  },
  {
   "cell_type": "code",
   "execution_count": 2,
   "metadata": {},
   "outputs": [
    {
     "name": "stdout",
     "output_type": "stream",
     "text": [
      "Parsed falcon7, cc_news data: 1169 records\n",
      "Parsed falcon7, cnn data: 876 records\n",
      "Parsed falcon7, pubmed data: 112 records\n",
      "Parsed llama2-13b, cc_news data: 4714 records\n",
      "Parsed llama2-13b, cnn data: 2208 records\n",
      "Parsed llama2-13b, pubmed data: 2198 records\n"
     ]
    }
   ],
   "source": [
    "# Dict describing datasets to load\n",
    "hans_datasets = {\n",
    "    'falcon7': {\n",
    "        'cc_news': 'cc_news/cc_news-falcon7.jsonl',\n",
    "        'cnn': 'cnn/cnn-falcon7.jsonl',\n",
    "        'pubmed': 'pubmed/pubmed-falcon7.jsonl'\n",
    "    },\n",
    "    'llama2-13b': {\n",
    "        'cc_news': 'cc_news/cc_news-llama2_13.jsonl',\n",
    "        'cnn': 'cnn/cnn-llama2_13.jsonl',\n",
    "        'pubmed': 'pubmed/pubmed-llama2_13.jsonl' \n",
    "    }\n",
    "}\n",
    "\n",
    "# Output dict for collected & combined datasets\n",
    "hans_data = {\n",
    "    'Generation model': [],\n",
    "    'Data source': [],\n",
    "    'Human text length (words)': [],\n",
    "    'Human text': [],\n",
    "    'Synthetic text': [],\n",
    "    'Synthetic text length (words)': [],\n",
    "    'Human text fraction': []\n",
    "}\n",
    "\n",
    "# Output dict for datasets wide metadata\n",
    "hans_metadata = {\n",
    "    'Generation model': [],\n",
    "    'Data source': [],\n",
    "    'Records': [],\n",
    "    'Mean human text length (words)': [],\n",
    "    'Human text length STD': [],\n",
    "    'Mean synthetic text length (words)': [],\n",
    "    'Synthetic text length STD': [],\n",
    "    'Mean human text fraction': []\n",
    "}\n",
    "\n",
    "# Parse, collect and combine data and get metadata\n",
    "hans_metadata_df, hans_data_df = data_funcs.parse_hans_data(\n",
    "    hans_datasets = hans_datasets, \n",
    "    hans_data = hans_data, \n",
    "    hans_metadata = hans_metadata,\n",
    "    binoculars_data_path = config.HANS_DATA_PATH\n",
    ")\n",
    "\n",
    "# Save as JSON for later use\n",
    "output_file = f'{config.HANS_DATA_PATH}/aggregated_hans_data.jsonl'\n",
    "\n",
    "with open(output_file, 'w') as file:\n",
    "    file.write(hans_data_df.to_json(lines=True, orient='records'))"
   ]
  },
  {
   "cell_type": "markdown",
   "metadata": {},
   "source": [
    "Next, let's get TF-IDF across the datasets so we have some idea of the relative complexity."
   ]
  },
  {
   "cell_type": "code",
   "execution_count": 3,
   "metadata": {},
   "outputs": [
    {
     "data": {
      "text/html": [
       "<div>\n",
       "<style scoped>\n",
       "    .dataframe tbody tr th:only-of-type {\n",
       "        vertical-align: middle;\n",
       "    }\n",
       "\n",
       "    .dataframe tbody tr th {\n",
       "        vertical-align: top;\n",
       "    }\n",
       "\n",
       "    .dataframe thead th {\n",
       "        text-align: right;\n",
       "    }\n",
       "</style>\n",
       "<table border=\"1\" class=\"dataframe\">\n",
       "  <thead>\n",
       "    <tr style=\"text-align: right;\">\n",
       "      <th></th>\n",
       "      <th>00</th>\n",
       "      <th>000</th>\n",
       "      <th>0000</th>\n",
       "      <th>00000</th>\n",
       "      <th>000000</th>\n",
       "      <th>0000000172</th>\n",
       "      <th>000001</th>\n",
       "      <th>000004496</th>\n",
       "      <th>000006</th>\n",
       "      <th>0000068</th>\n",
       "      <th>...</th>\n",
       "      <th>黃之鋒</th>\n",
       "      <th>ﬁnding</th>\n",
       "      <th>ﬁne</th>\n",
       "      <th>ﬁnely</th>\n",
       "      <th>ﬁrst</th>\n",
       "      <th>ﬂaked</th>\n",
       "      <th>ﬂour</th>\n",
       "      <th>ﬂoured</th>\n",
       "      <th>ﬂuffy</th>\n",
       "      <th>𝐤𝖔𝖇𝐲</th>\n",
       "    </tr>\n",
       "  </thead>\n",
       "  <tbody>\n",
       "    <tr>\n",
       "      <th>0</th>\n",
       "      <td>0.048244</td>\n",
       "      <td>0.042917</td>\n",
       "      <td>0.0</td>\n",
       "      <td>0.0</td>\n",
       "      <td>0.0</td>\n",
       "      <td>0.0</td>\n",
       "      <td>0.0</td>\n",
       "      <td>0.0</td>\n",
       "      <td>0.0</td>\n",
       "      <td>0.0</td>\n",
       "      <td>...</td>\n",
       "      <td>0.0</td>\n",
       "      <td>0.0</td>\n",
       "      <td>0.0</td>\n",
       "      <td>0.0</td>\n",
       "      <td>0.0</td>\n",
       "      <td>0.0</td>\n",
       "      <td>0.0</td>\n",
       "      <td>0.0</td>\n",
       "      <td>0.0</td>\n",
       "      <td>0.0</td>\n",
       "    </tr>\n",
       "    <tr>\n",
       "      <th>1</th>\n",
       "      <td>0.000000</td>\n",
       "      <td>0.000000</td>\n",
       "      <td>0.0</td>\n",
       "      <td>0.0</td>\n",
       "      <td>0.0</td>\n",
       "      <td>0.0</td>\n",
       "      <td>0.0</td>\n",
       "      <td>0.0</td>\n",
       "      <td>0.0</td>\n",
       "      <td>0.0</td>\n",
       "      <td>...</td>\n",
       "      <td>0.0</td>\n",
       "      <td>0.0</td>\n",
       "      <td>0.0</td>\n",
       "      <td>0.0</td>\n",
       "      <td>0.0</td>\n",
       "      <td>0.0</td>\n",
       "      <td>0.0</td>\n",
       "      <td>0.0</td>\n",
       "      <td>0.0</td>\n",
       "      <td>0.0</td>\n",
       "    </tr>\n",
       "    <tr>\n",
       "      <th>2</th>\n",
       "      <td>0.000000</td>\n",
       "      <td>0.000000</td>\n",
       "      <td>0.0</td>\n",
       "      <td>0.0</td>\n",
       "      <td>0.0</td>\n",
       "      <td>0.0</td>\n",
       "      <td>0.0</td>\n",
       "      <td>0.0</td>\n",
       "      <td>0.0</td>\n",
       "      <td>0.0</td>\n",
       "      <td>...</td>\n",
       "      <td>0.0</td>\n",
       "      <td>0.0</td>\n",
       "      <td>0.0</td>\n",
       "      <td>0.0</td>\n",
       "      <td>0.0</td>\n",
       "      <td>0.0</td>\n",
       "      <td>0.0</td>\n",
       "      <td>0.0</td>\n",
       "      <td>0.0</td>\n",
       "      <td>0.0</td>\n",
       "    </tr>\n",
       "    <tr>\n",
       "      <th>3</th>\n",
       "      <td>0.000000</td>\n",
       "      <td>0.031481</td>\n",
       "      <td>0.0</td>\n",
       "      <td>0.0</td>\n",
       "      <td>0.0</td>\n",
       "      <td>0.0</td>\n",
       "      <td>0.0</td>\n",
       "      <td>0.0</td>\n",
       "      <td>0.0</td>\n",
       "      <td>0.0</td>\n",
       "      <td>...</td>\n",
       "      <td>0.0</td>\n",
       "      <td>0.0</td>\n",
       "      <td>0.0</td>\n",
       "      <td>0.0</td>\n",
       "      <td>0.0</td>\n",
       "      <td>0.0</td>\n",
       "      <td>0.0</td>\n",
       "      <td>0.0</td>\n",
       "      <td>0.0</td>\n",
       "      <td>0.0</td>\n",
       "    </tr>\n",
       "    <tr>\n",
       "      <th>4</th>\n",
       "      <td>0.000000</td>\n",
       "      <td>0.000000</td>\n",
       "      <td>0.0</td>\n",
       "      <td>0.0</td>\n",
       "      <td>0.0</td>\n",
       "      <td>0.0</td>\n",
       "      <td>0.0</td>\n",
       "      <td>0.0</td>\n",
       "      <td>0.0</td>\n",
       "      <td>0.0</td>\n",
       "      <td>...</td>\n",
       "      <td>0.0</td>\n",
       "      <td>0.0</td>\n",
       "      <td>0.0</td>\n",
       "      <td>0.0</td>\n",
       "      <td>0.0</td>\n",
       "      <td>0.0</td>\n",
       "      <td>0.0</td>\n",
       "      <td>0.0</td>\n",
       "      <td>0.0</td>\n",
       "      <td>0.0</td>\n",
       "    </tr>\n",
       "  </tbody>\n",
       "</table>\n",
       "<p>5 rows × 175741 columns</p>\n",
       "</div>"
      ],
      "text/plain": [
       "         00       000  0000  00000  000000  0000000172  000001  000004496  \\\n",
       "0  0.048244  0.042917   0.0    0.0     0.0         0.0     0.0        0.0   \n",
       "1  0.000000  0.000000   0.0    0.0     0.0         0.0     0.0        0.0   \n",
       "2  0.000000  0.000000   0.0    0.0     0.0         0.0     0.0        0.0   \n",
       "3  0.000000  0.031481   0.0    0.0     0.0         0.0     0.0        0.0   \n",
       "4  0.000000  0.000000   0.0    0.0     0.0         0.0     0.0        0.0   \n",
       "\n",
       "   000006  0000068  ...  黃之鋒  ﬁnding  ﬁne  ﬁnely  ﬁrst  ﬂaked  ﬂour  ﬂoured  \\\n",
       "0     0.0      0.0  ...  0.0     0.0  0.0    0.0   0.0    0.0   0.0     0.0   \n",
       "1     0.0      0.0  ...  0.0     0.0  0.0    0.0   0.0    0.0   0.0     0.0   \n",
       "2     0.0      0.0  ...  0.0     0.0  0.0    0.0   0.0    0.0   0.0     0.0   \n",
       "3     0.0      0.0  ...  0.0     0.0  0.0    0.0   0.0    0.0   0.0     0.0   \n",
       "4     0.0      0.0  ...  0.0     0.0  0.0    0.0   0.0    0.0   0.0     0.0   \n",
       "\n",
       "   ﬂuffy  𝐤𝖔𝖇𝐲  \n",
       "0    0.0   0.0  \n",
       "1    0.0   0.0  \n",
       "2    0.0   0.0  \n",
       "3    0.0   0.0  \n",
       "4    0.0   0.0  \n",
       "\n",
       "[5 rows x 175741 columns]"
      ]
     },
     "execution_count": 3,
     "metadata": {},
     "output_type": "execute_result"
    }
   ],
   "source": [
    "human_tfidf_df, synthetic_tfidf_df = data_funcs.tf_idf(data_df = hans_data_df)\n",
    "human_tfidf_df.head()"
   ]
  },
  {
   "cell_type": "code",
   "execution_count": 4,
   "metadata": {},
   "outputs": [
    {
     "name": "stdout",
     "output_type": "stream",
     "text": [
      "<class 'pandas.core.frame.DataFrame'>\n",
      "RangeIndex: 11271 entries, 0 to 11270\n",
      "Columns: 175741 entries, 00 to 𝐤𝖔𝖇𝐲\n",
      "dtypes: float64(175741)\n",
      "memory usage: 14.8 GB\n"
     ]
    }
   ],
   "source": [
    "human_tfidf_df.info()"
   ]
  },
  {
   "cell_type": "markdown",
   "metadata": {},
   "source": [
    "### 1.1. Hans datasets structure\n",
    "Take a look at what we have:"
   ]
  },
  {
   "cell_type": "code",
   "execution_count": 5,
   "metadata": {},
   "outputs": [
    {
     "data": {
      "text/html": [
       "<div>\n",
       "<style scoped>\n",
       "    .dataframe tbody tr th:only-of-type {\n",
       "        vertical-align: middle;\n",
       "    }\n",
       "\n",
       "    .dataframe tbody tr th {\n",
       "        vertical-align: top;\n",
       "    }\n",
       "\n",
       "    .dataframe thead th {\n",
       "        text-align: right;\n",
       "    }\n",
       "</style>\n",
       "<table border=\"1\" class=\"dataframe\">\n",
       "  <thead>\n",
       "    <tr style=\"text-align: right;\">\n",
       "      <th></th>\n",
       "      <th>Generation model</th>\n",
       "      <th>Data source</th>\n",
       "      <th>Records</th>\n",
       "      <th>Mean human text length (words)</th>\n",
       "      <th>Human text length STD</th>\n",
       "      <th>Mean synthetic text length (words)</th>\n",
       "      <th>Synthetic text length STD</th>\n",
       "      <th>Mean human text fraction</th>\n",
       "    </tr>\n",
       "  </thead>\n",
       "  <tbody>\n",
       "    <tr>\n",
       "      <th>0</th>\n",
       "      <td>falcon7</td>\n",
       "      <td>cc_news</td>\n",
       "      <td>1169</td>\n",
       "      <td>935.790240</td>\n",
       "      <td>775.046347</td>\n",
       "      <td>369.841610</td>\n",
       "      <td>39.872910</td>\n",
       "      <td>0.687366</td>\n",
       "    </tr>\n",
       "    <tr>\n",
       "      <th>1</th>\n",
       "      <td>falcon7</td>\n",
       "      <td>cnn</td>\n",
       "      <td>876</td>\n",
       "      <td>967.403429</td>\n",
       "      <td>295.668681</td>\n",
       "      <td>383.460571</td>\n",
       "      <td>26.776287</td>\n",
       "      <td>0.704008</td>\n",
       "    </tr>\n",
       "    <tr>\n",
       "      <th>2</th>\n",
       "      <td>falcon7</td>\n",
       "      <td>pubmed</td>\n",
       "      <td>112</td>\n",
       "      <td>2933.936937</td>\n",
       "      <td>1884.328293</td>\n",
       "      <td>336.387387</td>\n",
       "      <td>59.922703</td>\n",
       "      <td>0.861709</td>\n",
       "    </tr>\n",
       "    <tr>\n",
       "      <th>3</th>\n",
       "      <td>llama2-13b</td>\n",
       "      <td>cc_news</td>\n",
       "      <td>4714</td>\n",
       "      <td>863.986845</td>\n",
       "      <td>716.515544</td>\n",
       "      <td>330.481434</td>\n",
       "      <td>39.772044</td>\n",
       "      <td>0.692970</td>\n",
       "    </tr>\n",
       "    <tr>\n",
       "      <th>4</th>\n",
       "      <td>llama2-13b</td>\n",
       "      <td>cnn</td>\n",
       "      <td>2208</td>\n",
       "      <td>893.908473</td>\n",
       "      <td>296.323984</td>\n",
       "      <td>570.213412</td>\n",
       "      <td>133.191800</td>\n",
       "      <td>0.602143</td>\n",
       "    </tr>\n",
       "    <tr>\n",
       "      <th>5</th>\n",
       "      <td>llama2-13b</td>\n",
       "      <td>pubmed</td>\n",
       "      <td>2198</td>\n",
       "      <td>3257.725080</td>\n",
       "      <td>2587.036147</td>\n",
       "      <td>579.649522</td>\n",
       "      <td>130.517106</td>\n",
       "      <td>0.800563</td>\n",
       "    </tr>\n",
       "  </tbody>\n",
       "</table>\n",
       "</div>"
      ],
      "text/plain": [
       "  Generation model Data source  Records  Mean human text length (words)  \\\n",
       "0          falcon7     cc_news     1169                      935.790240   \n",
       "1          falcon7         cnn      876                      967.403429   \n",
       "2          falcon7      pubmed      112                     2933.936937   \n",
       "3       llama2-13b     cc_news     4714                      863.986845   \n",
       "4       llama2-13b         cnn     2208                      893.908473   \n",
       "5       llama2-13b      pubmed     2198                     3257.725080   \n",
       "\n",
       "   Human text length STD  Mean synthetic text length (words)  \\\n",
       "0             775.046347                          369.841610   \n",
       "1             295.668681                          383.460571   \n",
       "2            1884.328293                          336.387387   \n",
       "3             716.515544                          330.481434   \n",
       "4             296.323984                          570.213412   \n",
       "5            2587.036147                          579.649522   \n",
       "\n",
       "   Synthetic text length STD  Mean human text fraction  \n",
       "0                  39.872910                  0.687366  \n",
       "1                  26.776287                  0.704008  \n",
       "2                  59.922703                  0.861709  \n",
       "3                  39.772044                  0.692970  \n",
       "4                 133.191800                  0.602143  \n",
       "5                 130.517106                  0.800563  "
      ]
     },
     "execution_count": 5,
     "metadata": {},
     "output_type": "execute_result"
    }
   ],
   "source": [
    "# Metadata\n",
    "hans_metadata_df.head(7)"
   ]
  },
  {
   "cell_type": "code",
   "execution_count": 6,
   "metadata": {},
   "outputs": [
    {
     "name": "stdout",
     "output_type": "stream",
     "text": [
      "Total human text: 15467196 words\n",
      "Total synthetic text: 4894352 words\n",
      "Data is 72.5% human by words\n"
     ]
    }
   ],
   "source": [
    "# Total amounts of text\n",
    "print(f\"Total human text: {sum(hans_data['Human text length (words)'])} words\")\n",
    "print(f\"Total synthetic text: {sum(hans_data['Synthetic text length (words)'])} words\")\n",
    "print(f\"Data is {round(mean(hans_metadata_df['Mean human text fraction']) * 100, 1)}% human by words\")"
   ]
  },
  {
   "cell_type": "code",
   "execution_count": 7,
   "metadata": {},
   "outputs": [
    {
     "name": "stdout",
     "output_type": "stream",
     "text": [
      "Human example: H. B. Fuller Company (NYSE:FUL) VP Traci L. Jensen sold 5,397 shares of the firm’s stock in a transaction dated Monday, October 2nd. The stock was sold at an average price of $58.40, for a total transaction of $315,184.80. The transaction was disclosed in a legal filing with the Securities & Exchange Commission, which is available through this link.\n",
      "Shares of H. B. Fuller Company (NYSE:FUL) opened at 56.81 on Friday. The company’s 50-day moving average is $53.88 and its 200 day moving average is $52.11. The firm has a market capitalization of $2.87 billion, a PE ratio of 25.96 and\n",
      "\n",
      "Synthetic example:  $54.40, for a total value of $298,532.80. Following the completion of the sale, the vice president now owns 11,041 shares of the company’s stock, valued at $594,803.40. The sale was disclosed in a document filed with the Securities & Exchange Commission, which is accessible through this link.\n",
      "H. B. Fuller Company (NYSE:FUL) traded down 1.30% during midday trading on Monday, reaching $53.35. 94,711 shares of the company were exchanged. The stock has a market cap of $1.83 billion, a P/E ratio of 34.44 and a beta of 1.20. The company has a 50 day moving average of $54.03 and a\n"
     ]
    }
   ],
   "source": [
    "print(f\"Human example: {' '.join(hans_data['Human text'][0].split(' ')[:100])}\")\n",
    "print()\n",
    "print(f\"Synthetic example: {' '.join(hans_data['Synthetic text'][0].split(' ')[:100])}\")"
   ]
  },
  {
   "cell_type": "code",
   "execution_count": 8,
   "metadata": {},
   "outputs": [
    {
     "name": "stdout",
     "output_type": "stream",
     "text": [
      "<class 'pandas.core.frame.DataFrame'>\n",
      "RangeIndex: 11271 entries, 0 to 11270\n",
      "Data columns (total 7 columns):\n",
      " #   Column                         Non-Null Count  Dtype  \n",
      "---  ------                         --------------  -----  \n",
      " 0   Generation model               11271 non-null  object \n",
      " 1   Data source                    11271 non-null  object \n",
      " 2   Human text length (words)      11271 non-null  int64  \n",
      " 3   Human text                     11271 non-null  object \n",
      " 4   Synthetic text                 11271 non-null  object \n",
      " 5   Synthetic text length (words)  11271 non-null  int64  \n",
      " 6   Human text fraction            11271 non-null  float64\n",
      "dtypes: float64(1), int64(2), object(4)\n",
      "memory usage: 616.5+ KB\n"
     ]
    }
   ],
   "source": [
    "# Combined dataset structure information\n",
    "hans_data_df.info()"
   ]
  },
  {
   "cell_type": "code",
   "execution_count": 9,
   "metadata": {},
   "outputs": [
    {
     "data": {
      "text/html": [
       "<div>\n",
       "<style scoped>\n",
       "    .dataframe tbody tr th:only-of-type {\n",
       "        vertical-align: middle;\n",
       "    }\n",
       "\n",
       "    .dataframe tbody tr th {\n",
       "        vertical-align: top;\n",
       "    }\n",
       "\n",
       "    .dataframe thead th {\n",
       "        text-align: right;\n",
       "    }\n",
       "</style>\n",
       "<table border=\"1\" class=\"dataframe\">\n",
       "  <thead>\n",
       "    <tr style=\"text-align: right;\">\n",
       "      <th></th>\n",
       "      <th>count</th>\n",
       "      <th>mean</th>\n",
       "      <th>std</th>\n",
       "      <th>min</th>\n",
       "      <th>25%</th>\n",
       "      <th>50%</th>\n",
       "      <th>75%</th>\n",
       "      <th>max</th>\n",
       "    </tr>\n",
       "  </thead>\n",
       "  <tbody>\n",
       "    <tr>\n",
       "      <th>Human text length (words)</th>\n",
       "      <td>11271.0</td>\n",
       "      <td>1372.300240</td>\n",
       "      <td>1594.344645</td>\n",
       "      <td>143.000000</td>\n",
       "      <td>646.000000</td>\n",
       "      <td>848.000000</td>\n",
       "      <td>1320.50000</td>\n",
       "      <td>50234.000000</td>\n",
       "    </tr>\n",
       "    <tr>\n",
       "      <th>Synthetic text length (words)</th>\n",
       "      <td>11271.0</td>\n",
       "      <td>434.242924</td>\n",
       "      <td>143.796153</td>\n",
       "      <td>1.000000</td>\n",
       "      <td>336.000000</td>\n",
       "      <td>374.000000</td>\n",
       "      <td>539.00000</td>\n",
       "      <td>1473.000000</td>\n",
       "    </tr>\n",
       "    <tr>\n",
       "      <th>Human text fraction</th>\n",
       "      <td>11271.0</td>\n",
       "      <td>0.698096</td>\n",
       "      <td>0.105767</td>\n",
       "      <td>0.377897</td>\n",
       "      <td>0.628042</td>\n",
       "      <td>0.685624</td>\n",
       "      <td>0.76408</td>\n",
       "      <td>0.996644</td>\n",
       "    </tr>\n",
       "  </tbody>\n",
       "</table>\n",
       "</div>"
      ],
      "text/plain": [
       "                                 count         mean          std         min  \\\n",
       "Human text length (words)      11271.0  1372.300240  1594.344645  143.000000   \n",
       "Synthetic text length (words)  11271.0   434.242924   143.796153    1.000000   \n",
       "Human text fraction            11271.0     0.698096     0.105767    0.377897   \n",
       "\n",
       "                                      25%         50%         75%  \\\n",
       "Human text length (words)      646.000000  848.000000  1320.50000   \n",
       "Synthetic text length (words)  336.000000  374.000000   539.00000   \n",
       "Human text fraction              0.628042    0.685624     0.76408   \n",
       "\n",
       "                                        max  \n",
       "Human text length (words)      50234.000000  \n",
       "Synthetic text length (words)   1473.000000  \n",
       "Human text fraction                0.996644  "
      ]
     },
     "execution_count": 9,
     "metadata": {},
     "output_type": "execute_result"
    }
   ],
   "source": [
    "# Combined dataset statistics\n",
    "hans_data_df.describe().transpose()"
   ]
  },
  {
   "cell_type": "code",
   "execution_count": 10,
   "metadata": {},
   "outputs": [
    {
     "data": {
      "text/html": [
       "<div>\n",
       "<style scoped>\n",
       "    .dataframe tbody tr th:only-of-type {\n",
       "        vertical-align: middle;\n",
       "    }\n",
       "\n",
       "    .dataframe tbody tr th {\n",
       "        vertical-align: top;\n",
       "    }\n",
       "\n",
       "    .dataframe thead th {\n",
       "        text-align: right;\n",
       "    }\n",
       "</style>\n",
       "<table border=\"1\" class=\"dataframe\">\n",
       "  <thead>\n",
       "    <tr style=\"text-align: right;\">\n",
       "      <th></th>\n",
       "      <th>Generation model</th>\n",
       "      <th>Data source</th>\n",
       "      <th>Human text length (words)</th>\n",
       "      <th>Human text</th>\n",
       "      <th>Synthetic text</th>\n",
       "      <th>Synthetic text length (words)</th>\n",
       "      <th>Human text fraction</th>\n",
       "    </tr>\n",
       "  </thead>\n",
       "  <tbody>\n",
       "    <tr>\n",
       "      <th>0</th>\n",
       "      <td>falcon7</td>\n",
       "      <td>cc_news</td>\n",
       "      <td>836</td>\n",
       "      <td>H. B. Fuller Company (NYSE:FUL) VP Traci L. Je...</td>\n",
       "      <td>$54.40, for a total value of $298,532.80. Fol...</td>\n",
       "      <td>307</td>\n",
       "      <td>0.731409</td>\n",
       "    </tr>\n",
       "    <tr>\n",
       "      <th>1</th>\n",
       "      <td>falcon7</td>\n",
       "      <td>cc_news</td>\n",
       "      <td>1153</td>\n",
       "      <td>On Aug. 21, a solar eclipse will cut across th...</td>\n",
       "      <td>covers the sun.\\nThe total eclipse will be vi...</td>\n",
       "      <td>382</td>\n",
       "      <td>0.751140</td>\n",
       "    </tr>\n",
       "    <tr>\n",
       "      <th>2</th>\n",
       "      <td>falcon7</td>\n",
       "      <td>cc_news</td>\n",
       "      <td>725</td>\n",
       "      <td>Study on Aerosol Valves Market by Infinium Glo...</td>\n",
       "      <td>of Aerosol Valves market by type (Aerosol Noz...</td>\n",
       "      <td>324</td>\n",
       "      <td>0.691134</td>\n",
       "    </tr>\n",
       "    <tr>\n",
       "      <th>3</th>\n",
       "      <td>falcon7</td>\n",
       "      <td>cc_news</td>\n",
       "      <td>689</td>\n",
       "      <td>VICTORIA – More than 1,400 British Columbians ...</td>\n",
       "      <td>,423 illicit drug overdose deaths in 2017, up ...</td>\n",
       "      <td>373</td>\n",
       "      <td>0.648776</td>\n",
       "    </tr>\n",
       "    <tr>\n",
       "      <th>4</th>\n",
       "      <td>falcon7</td>\n",
       "      <td>cc_news</td>\n",
       "      <td>869</td>\n",
       "      <td>On land, heatwaves can be deadly for humans an...</td>\n",
       "      <td>sometimes even larger, more mobile species of...</td>\n",
       "      <td>386</td>\n",
       "      <td>0.692430</td>\n",
       "    </tr>\n",
       "  </tbody>\n",
       "</table>\n",
       "</div>"
      ],
      "text/plain": [
       "  Generation model Data source  Human text length (words)  \\\n",
       "0          falcon7     cc_news                        836   \n",
       "1          falcon7     cc_news                       1153   \n",
       "2          falcon7     cc_news                        725   \n",
       "3          falcon7     cc_news                        689   \n",
       "4          falcon7     cc_news                        869   \n",
       "\n",
       "                                          Human text  \\\n",
       "0  H. B. Fuller Company (NYSE:FUL) VP Traci L. Je...   \n",
       "1  On Aug. 21, a solar eclipse will cut across th...   \n",
       "2  Study on Aerosol Valves Market by Infinium Glo...   \n",
       "3  VICTORIA – More than 1,400 British Columbians ...   \n",
       "4  On land, heatwaves can be deadly for humans an...   \n",
       "\n",
       "                                      Synthetic text  \\\n",
       "0   $54.40, for a total value of $298,532.80. Fol...   \n",
       "1   covers the sun.\\nThe total eclipse will be vi...   \n",
       "2   of Aerosol Valves market by type (Aerosol Noz...   \n",
       "3  ,423 illicit drug overdose deaths in 2017, up ...   \n",
       "4   sometimes even larger, more mobile species of...   \n",
       "\n",
       "   Synthetic text length (words)  Human text fraction  \n",
       "0                            307             0.731409  \n",
       "1                            382             0.751140  \n",
       "2                            324             0.691134  \n",
       "3                            373             0.648776  \n",
       "4                            386             0.692430  "
      ]
     },
     "execution_count": 10,
     "metadata": {},
     "output_type": "execute_result"
    }
   ],
   "source": [
    "# Combined dataset sample\n",
    "hans_data_df.head()"
   ]
  },
  {
   "cell_type": "markdown",
   "metadata": {},
   "source": [
    "### 1.2. Hans datasets plots\n",
    "#### 1.2.1. Text length distributions"
   ]
  },
  {
   "cell_type": "code",
   "execution_count": 11,
   "metadata": {},
   "outputs": [
    {
     "data": {
      "image/png": "[encoded data removed]",
      "text/plain": [
       "<Figure size 600x300 with 2 Axes>"
      ]
     },
     "metadata": {},
     "output_type": "display_data"
    }
   ],
   "source": [
    "# Set general font size\n",
    "plt.rcParams['font.size'] = 12\n",
    "\n",
    "# Set-up figure and axis array\n",
    "fig, axs = plt.subplots(1, 2, figsize = (6, 3), sharey = 'row', tight_layout = True, gridspec_kw = {'wspace':0, 'hspace':0})\n",
    "\n",
    "# Draw the histograms\n",
    "axs[0].hist(hans_data_df['Human text length (words)'], facecolor = 'green', log = True, label = 'Human text')\n",
    "axs[1].hist(hans_data_df['Synthetic text length (words)'], facecolor = 'blue', log = True, label = 'synthetic text')\n",
    "\n",
    "# Annotate figure\n",
    "fig.text(0.5, 1, 'Text length distributions', ha = 'center', fontsize = 'x-large')\n",
    "fig.text(0.5, 0.01, 'Length (words)', ha = 'center')\n",
    "fig.text(0.01, 0.5, 'log(records)', va = 'center', ha = 'center', rotation = 90)\n",
    "axs[0].set_title('Human', y = 1.0, pad = -18)\n",
    "axs[1].set_title('Synthetic', y = 1.0, pad = -18)\n",
    "\n",
    "plt.show()"
   ]
  },
  {
   "cell_type": "markdown",
   "metadata": {},
   "source": [
    "#### 1.2.2. Human-synthetic text length correlation by record"
   ]
  },
  {
   "cell_type": "code",
   "execution_count": 12,
   "metadata": {},
   "outputs": [
    {
     "data": {
      "image/png": "[encoded data removed]",
      "text/plain": [
       "<Figure size 640x480 with 1 Axes>"
      ]
     },
     "metadata": {},
     "output_type": "display_data"
    }
   ],
   "source": [
    "plt.title('Human vs synthetic text length by record')\n",
    "plt.scatter(hans_data_df['Human text length (words)'], hans_data_df['Synthetic text length (words)'], color = 'black')\n",
    "plt.yscale('log')\n",
    "plt.xscale('log')\n",
    "plt.xlabel('Human text length (words)')\n",
    "plt.ylabel('Synthetic text length (words)')\n",
    "plt.show()"
   ]
  },
  {
   "cell_type": "markdown",
   "metadata": {},
   "source": [
    "#### 1.2.3. Text composition distribution over records"
   ]
  },
  {
   "cell_type": "code",
   "execution_count": 13,
   "metadata": {},
   "outputs": [
    {
     "data": {
      "image/png": "[encoded data removed]",
      "text/plain": [
       "<Figure size 640x480 with 1 Axes>"
      ]
     },
     "metadata": {},
     "output_type": "display_data"
    }
   ],
   "source": [
    "plt.title('Text composition distribution')\n",
    "plt.hist(hans_data_df['Human text fraction'], facecolor = 'black')\n",
    "plt.xlabel('Fraction human text')\n",
    "plt.ylabel('Records')\n",
    "plt.show()"
   ]
  },
  {
   "cell_type": "markdown",
   "metadata": {},
   "source": [
    "#### 1.2.4. TF-IDF distributions"
   ]
  },
  {
   "cell_type": "code",
   "execution_count": 14,
   "metadata": {},
   "outputs": [
    {
     "data": {
      "image/png": "[encoded data removed]",
      "text/plain": [
       "<Figure size 640x480 with 1 Axes>"
      ]
     },
     "metadata": {},
     "output_type": "display_data"
    }
   ],
   "source": [
    "human_tfidfs = human_tfidf_df.to_numpy().flatten()\n",
    "synthetic_tfidfs = synthetic_tfidf_df.to_numpy().flatten()\n",
    "\n",
    "plt.title('Term-wise TF-IDF over records')\n",
    "plt.hist(human_tfidfs[(human_tfidfs != 0.0) & (human_tfidfs < 0.4)], facecolor = 'green', label = 'Human text', alpha = 0.5)\n",
    "plt.hist(synthetic_tfidfs[(synthetic_tfidfs != 0.0) & (synthetic_tfidfs < 0.4)], facecolor = 'blue', label = 'Synthetic text', alpha = 0.5)\n",
    "plt.xlabel('Fraction human text')\n",
    "plt.ylabel('TF-IDF')\n",
    "plt.legend(loc = 'upper right')\n",
    "plt.show()"
   ]
  }
 ],
 "metadata": {
  "kernelspec": {
   "display_name": ".venv",
   "language": "python",
   "name": "python3"
  },
  "language_info": {
   "codemirror_mode": {
    "name": "ipython",
    "version": 3
   },
   "file_extension": ".py",
   "mimetype": "text/x-python",
   "name": "python",
   "nbconvert_exporter": "python",
   "pygments_lexer": "ipython3",
   "version": "3.8.10"
  }
 },
 "nbformat": 4,
 "nbformat_minor": 2
}
