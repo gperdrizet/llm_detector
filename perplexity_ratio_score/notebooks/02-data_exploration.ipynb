{
 "cells": [
  {
   "cell_type": "markdown",
   "metadata": {},
   "source": [
    "# Data exploration\n",
    "\n",
    "Now that we have all 5 datasets combined into a consistent format. Let's load up the data an take a quick look at what we have."
   ]
  }
 ],
 "metadata": {
  "language_info": {
   "name": "python"
  }
 },
 "nbformat": 4,
 "nbformat_minor": 2
}
