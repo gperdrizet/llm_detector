{
 "cells": [
  {
   "cell_type": "markdown",
   "metadata": {},
   "source": [
    "# Human and synthetic text dataset wrangling\n",
    "\n",
    "## Introduction\n",
    "\n",
    "We have 5 target datasets. The plan it to get them downloaded and saved locally, read into Python as appropriate and combined into a unified dataset. Ideally, running this notebook from a clone of this repo should get you the base dataset used for perplexity scoring. Here are the target datasets:\n",
    "\n",
    "1. [Hans 2024](https://github.com/ahans30/Binoculars/tree/main), referred to as `hans`. Source: GitHub.\n",
    "2. [AI vs human text](https://www.kaggle.com/datasets/shanegerami/ai-vs-human-text), referred to as `gerami`. Source: Kaggle.\n",
    "3. [Human vs. LLM text corpus](https://www.kaggle.com/datasets/starblasters8/human-vs-llm-text-corpus), referred to as `grinberg`. Source: Kaggle.\n",
    "4. [Human-ChatGPT texts](https://github.com/HarshOza36/Detection-Of-Machine-Generated-Text/tree/master), referred to as `gaggar`. Source: GitHub.\n",
    "5. [ai-text-detection-pile](https://huggingface.co/datasets/artem9k/ai-text-detection-pile), referred to as `yatsenko`. Source: HuggingFace.\n",
    "\n",
    "## Notebook setup"
   ]
  },
  {
   "cell_type": "code",
   "execution_count": 1,
   "metadata": {},
   "outputs": [
    {
     "name": "stdout",
     "output_type": "stream",
     "text": [
      "/mnt/arkk/llm_detector/perplexity_ratio_score\n"
     ]
    }
   ],
   "source": [
    "# Change working directory to parent so we can import as we would\n",
    "# from the perplexity ratio score root directory\n",
    "%cd ..\n",
    "\n",
    "# Standard library imports\n",
    "import os.path\n",
    "import zipfile\n",
    "import urllib.request\n",
    "from pathlib import Path\n",
    "from itertools import product\n",
    "\n",
    "# PyPI imports\n",
    "import kaggle\n",
    "from datasets import load_dataset, utils\n",
    "\n",
    "# Internal imports\n",
    "import configuration as config"
   ]
  },
  {
   "cell_type": "markdown",
   "metadata": {},
   "source": [
    "## 1. Raw data acquisition\n",
    "\n",
    "First, download the raw data from each source so that we have a local copy archived.\n",
    "\n",
    "### 1.1. Hans\n",
    "\n",
    "This dataset comes in 6 JSON-lines formatted files. One for each combination of data source and generating model."
   ]
  },
  {
   "cell_type": "code",
   "execution_count": 2,
   "metadata": {},
   "outputs": [],
   "source": [
    "# Set up output directory\n",
    "output_directory=f'{config.RAW_DATA_PATH}/hans'\n",
    "Path(output_directory).mkdir(parents=True, exist_ok=True)\n",
    "\n",
    "# Data source info\n",
    "generating_models=['falcon7','llama2_13']\n",
    "data_sources=['cnn','cc_news','pubmed']\n",
    "base_url='https://raw.githubusercontent.com/ahans30/Binoculars/refs/heads/main/datasets/core'\n",
    "\n",
    "# Loop on generating models and data sources, downloading files for each\n",
    "for generating_model, data_source in product(generating_models, data_sources):\n",
    "    output_file=f'{output_directory}/{generating_model}-{data_source}.jsonl'\n",
    "\n",
    "    # Only download the file if we don't already have it\n",
    "    if Path(output_file).is_file() is False:\n",
    "        data_url=f'{base_url}/{data_source}/{data_source}-{generating_model}.jsonl'\n",
    "        download_result=urllib.request.urlretrieve(data_url, output_file)"
   ]
  },
  {
   "cell_type": "markdown",
   "metadata": {},
   "source": [
    "### 1.2. Gerami"
   ]
  },
  {
   "cell_type": "code",
   "execution_count": 8,
   "metadata": {},
   "outputs": [
    {
     "name": "stdout",
     "output_type": "stream",
     "text": [
      "Dataset URL: https://www.kaggle.com/datasets/shanegerami/ai-vs-human-text\n"
     ]
    }
   ],
   "source": [
    "# Set up output directory\n",
    "output_directory=f'{config.RAW_DATA_PATH}/gerami'\n",
    "Path(output_directory).mkdir(parents=True, exist_ok=True)\n",
    "\n",
    "# Output file\n",
    "output_file=f'{output_directory}/ai-vs-human-text.zip'\n",
    "\n",
    "# Only download the file if we don't already have it\n",
    "if Path(output_file).is_file() is False:\n",
    "    kaggle.api.dataset_download_files('shanegerami/ai-vs-human-text', path=output_directory)\n",
    "\n",
    "    # Unzip the data\n",
    "    with zipfile.ZipFile(output_file, 'r') as zip_ref:\n",
    "        zip_ref.extractall(output_directory)"
   ]
  },
  {
   "cell_type": "markdown",
   "metadata": {},
   "source": [
    "### 1.3. Grinberg"
   ]
  },
  {
   "cell_type": "code",
   "execution_count": 10,
   "metadata": {},
   "outputs": [
    {
     "name": "stdout",
     "output_type": "stream",
     "text": [
      "Dataset URL: https://www.kaggle.com/datasets/starblasters8/human-vs-llm-text-corpus\n"
     ]
    }
   ],
   "source": [
    "# Set up output directory\n",
    "output_directory=f'{config.RAW_DATA_PATH}/grinberg'\n",
    "Path(output_directory).mkdir(parents=True, exist_ok=True)\n",
    "\n",
    "# Output file\n",
    "output_file=f'{output_directory}/human-vs-llm-text-corpus.zip'\n",
    "\n",
    "# Only download the file if we don't already have it\n",
    "#if Path(output_file).is_file() is False:\n",
    "kaggle.api.dataset_download_files('starblasters8/human-vs-llm-text-corpus', path=output_directory)\n",
    "\n",
    "# Unzip the data\n",
    "with zipfile.ZipFile(output_file, 'r') as zip_ref:\n",
    "    zip_ref.extractall(output_directory)"
   ]
  },
  {
   "cell_type": "markdown",
   "metadata": {},
   "source": [
    "### 1.4. Gaggar"
   ]
  },
  {
   "cell_type": "code",
   "execution_count": 13,
   "metadata": {},
   "outputs": [],
   "source": [
    "# Set up output directory\n",
    "output_directory=f'{config.RAW_DATA_PATH}/gaggar'\n",
    "Path(output_directory).mkdir(parents=True, exist_ok=True)\n",
    "\n",
    "# File IO locations\n",
    "data_url='https://github.com/HarshOza36/Detection-Of-Machine-Generated-Text/raw/refs/heads/master/data/Final%20Dataset.zip'\n",
    "output_file=f'{output_directory}/data.zip'\n",
    "\n",
    "# Only download the file if we don't already have it\n",
    "if Path(output_file).is_file() is False:\n",
    "    download_result=urllib.request.urlretrieve(data_url, output_file)\n",
    "\n",
    "    # Unzip the data\n",
    "    with zipfile.ZipFile(output_file, 'r') as zip_ref:\n",
    "        zip_ref.extractall(output_directory)"
   ]
  },
  {
   "cell_type": "markdown",
   "metadata": {},
   "source": [
    "### 1.5. Yatsenko"
   ]
  },
  {
   "cell_type": "code",
   "execution_count": 6,
   "metadata": {},
   "outputs": [],
   "source": [
    "# Set up output directory\n",
    "output_directory=f'{config.RAW_DATA_PATH}/yatsenko'\n",
    "Path(output_directory).mkdir(parents=True, exist_ok=True)\n",
    "\n",
    "# Output directory for the data\n",
    "output_file=f'{output_directory}/data'\n",
    "\n",
    "# Only download the file if we don't already have it\n",
    "if Path(output_file).is_dir() is False:\n",
    "    utils.disable_progress_bar()\n",
    "    ds=load_dataset('artem9k/ai-text-detection-pile')\n",
    "\n",
    "    # Save the dataset to disk\n",
    "    ds.save_to_disk(output_file)"
   ]
  }
 ],
 "metadata": {
  "kernelspec": {
   "display_name": ".venv",
   "language": "python",
   "name": "python3"
  },
  "language_info": {
   "codemirror_mode": {
    "name": "ipython",
    "version": 3
   },
   "file_extension": ".py",
   "mimetype": "text/x-python",
   "name": "python",
   "nbconvert_exporter": "python",
   "pygments_lexer": "ipython3",
   "version": "3.8.10"
  }
 },
 "nbformat": 4,
 "nbformat_minor": 2
}
