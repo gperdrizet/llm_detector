{
 "cells": [
  {
   "cell_type": "markdown",
   "metadata": {},
   "source": [
    "# Human and synthetic text dataset wrangling\n",
    "\n",
    "## Introduction\n",
    "\n",
    "We have 5 target datasets. The plan it to get them downloaded and saved locally, read into Python as appropriate and combined into a unified dataset. Ideally, running this notebook from a clone of this repo should get you the base dataset used for perplexity scoring. Here are the target datasets:\n",
    "\n",
    "1. [Hans 2024](https://github.com/ahans30/Binoculars/tree/main), referred to as `hans`. Source: GitHub.\n",
    "2. [AI vs human text](https://www.kaggle.com/datasets/shanegerami/ai-vs-human-text), referred to as `gerami`. Source: Kaggle.\n",
    "3. [Human vs. LLM text corpus](https://www.kaggle.com/datasets/starblasters8/human-vs-llm-text-corpus), referred to as `grinberg`. Source: Kaggle.\n",
    "4. [Human-ChatGPT texts](https://github.com/HarshOza36/Detection-Of-Machine-Generated-Text/tree/master), referred to as `gaggar`. Source: GitHub.\n",
    "5. [ai-text-detection-pile](https://huggingface.co/datasets/artem9k/ai-text-detection-pile), referred to as `yatsenko`. Source: HuggingFace.\n",
    "\n",
    "## Notebook setup"
   ]
  },
  {
   "cell_type": "code",
   "execution_count": 1,
   "metadata": {},
   "outputs": [
    {
     "name": "stdout",
     "output_type": "stream",
     "text": [
      "/home/siderealyear/projects/llm_detector/perplexity_ratio_score\n"
     ]
    }
   ],
   "source": [
    "# Change working directory to parent so we can import as we would\n",
    "# from the perplexity ratio score root directory\n",
    "%cd ..\n",
    "\n",
    "# Standard library imports\n",
    "import glob\n",
    "import csv\n",
    "import json\n",
    "import os.path\n",
    "import zipfile\n",
    "import urllib.request\n",
    "from pathlib import Path\n",
    "from itertools import product\n",
    "\n",
    "# PyPI imports\n",
    "import pyarrow # pylint: disable=import-error\n",
    "import kaggle # pylint: disable=import-error\n",
    "import pandas as pd # pylint: disable=import-error\n",
    "from datasets import load_dataset, utils # pylint: disable=import-error\n",
    "\n",
    "# Internal imports\n",
    "import configuration as config"
   ]
  },
  {
   "cell_type": "markdown",
   "metadata": {},
   "source": [
    "## 1. Raw data acquisition\n",
    "\n",
    "First, download the raw data from each source so that we have a local copy archived.\n",
    "\n",
    "### 1.1. Hans\n",
    "\n",
    "This dataset comes in 6 JSON-lines formatted files. One for each combination of data source and generating model."
   ]
  },
  {
   "cell_type": "code",
   "execution_count": 2,
   "metadata": {},
   "outputs": [],
   "source": [
    "# Set up output directory\n",
    "output_directory=f'{config.RAW_DATA_PATH}/hans'\n",
    "Path(output_directory).mkdir(parents=True, exist_ok=True)\n",
    "\n",
    "# Data source info\n",
    "hans_generating_models=['falcon7','llama2_13']\n",
    "hans_data_sources=['cnn','cc_news','pubmed']\n",
    "hans_base_url='https://raw.githubusercontent.com/ahans30/Binoculars/refs/heads/main/datasets/core'\n",
    "\n",
    "# Loop on generating models and data sources, downloading files for each\n",
    "for generating_model, data_source in product(hans_generating_models, hans_data_sources):\n",
    "    output_file=f'{output_directory}/{generating_model}-{data_source}.jsonl'\n",
    "\n",
    "    # Only download the file if we don't already have it\n",
    "    if Path(output_file).is_file() is False:\n",
    "        data_url=f'{hans_base_url}/{data_source}/{data_source}-{generating_model}.jsonl'\n",
    "        download_result=urllib.request.urlretrieve(data_url, output_file)"
   ]
  },
  {
   "cell_type": "markdown",
   "metadata": {},
   "source": [
    "### 1.2. Gerami"
   ]
  },
  {
   "cell_type": "code",
   "execution_count": 3,
   "metadata": {},
   "outputs": [],
   "source": [
    "# Set up output directory\n",
    "output_directory=f'{config.RAW_DATA_PATH}/gerami'\n",
    "Path(output_directory).mkdir(parents=True, exist_ok=True)\n",
    "\n",
    "# Output file\n",
    "output_file=f'{output_directory}/ai-vs-human-text.zip'\n",
    "\n",
    "# Only download the file if we don't already have it\n",
    "if Path(output_file).is_file() is False:\n",
    "    kaggle.api.dataset_download_files('shanegerami/ai-vs-human-text', path=output_directory)\n",
    "\n",
    "    # Unzip the data\n",
    "    with zipfile.ZipFile(output_file, 'r') as zip_ref:\n",
    "        zip_ref.extractall(output_directory)"
   ]
  },
  {
   "cell_type": "markdown",
   "metadata": {},
   "source": [
    "### 1.3. Grinberg"
   ]
  },
  {
   "cell_type": "code",
   "execution_count": 4,
   "metadata": {},
   "outputs": [
    {
     "name": "stdout",
     "output_type": "stream",
     "text": [
      "Dataset URL: https://www.kaggle.com/datasets/starblasters8/human-vs-llm-text-corpus\n"
     ]
    }
   ],
   "source": [
    "# Set up output directory\n",
    "output_directory=f'{config.RAW_DATA_PATH}/grinberg'\n",
    "Path(output_directory).mkdir(parents=True, exist_ok=True)\n",
    "\n",
    "# Output file\n",
    "output_file=f'{output_directory}/human-vs-llm-text-corpus.zip'\n",
    "\n",
    "# Only download the file if we don't already have it\n",
    "#if Path(output_file).is_file() is False:\n",
    "kaggle.api.dataset_download_files('starblasters8/human-vs-llm-text-corpus', path=output_directory)\n",
    "\n",
    "# Unzip the data\n",
    "with zipfile.ZipFile(output_file, 'r') as zip_ref:\n",
    "    zip_ref.extractall(output_directory)"
   ]
  },
  {
   "cell_type": "markdown",
   "metadata": {},
   "source": [
    "### 1.4. Gaggar"
   ]
  },
  {
   "cell_type": "code",
   "execution_count": 5,
   "metadata": {},
   "outputs": [],
   "source": [
    "# Set up output directory\n",
    "output_directory=f'{config.RAW_DATA_PATH}/gaggar'\n",
    "Path(output_directory).mkdir(parents=True, exist_ok=True)\n",
    "\n",
    "# File IO locations\n",
    "data_url='https://github.com/HarshOza36/Detection-Of-Machine-Generated-Text/raw/refs/heads/master/data/Final%20Dataset.zip'\n",
    "output_file=f'{output_directory}/data.zip'\n",
    "\n",
    "# Only download the file if we don't already have it\n",
    "if Path(output_file).is_file() is False:\n",
    "    download_result=urllib.request.urlretrieve(data_url, output_file)\n",
    "\n",
    "    # Unzip the data\n",
    "    with zipfile.ZipFile(output_file, 'r') as zip_ref:\n",
    "        zip_ref.extractall(output_directory)"
   ]
  },
  {
   "cell_type": "markdown",
   "metadata": {},
   "source": [
    "### 1.5. Yatsenko"
   ]
  },
  {
   "cell_type": "code",
   "execution_count": 6,
   "metadata": {},
   "outputs": [],
   "source": [
    "# Set up output directory\n",
    "output_directory=f'{config.RAW_DATA_PATH}/yatsenko'\n",
    "Path(output_directory).mkdir(parents=True, exist_ok=True)\n",
    "\n",
    "# Output directory for the data\n",
    "output_file=f'{output_directory}/data'\n",
    "\n",
    "# Only download the file if we don't already have it\n",
    "if Path(output_file).is_dir() is False:\n",
    "    utils.disable_progress_bar()\n",
    "    ds=load_dataset('artem9k/ai-text-detection-pile')\n",
    "\n",
    "    # Save the dataset to disk\n",
    "    ds.save_to_disk(output_file)"
   ]
  },
  {
   "cell_type": "markdown",
   "metadata": {},
   "source": [
    "## 2. Data loading & parsing\n",
    "\n",
    "Next, read in the data and parse it to a consistent format. Target is three columns: text, synthetic (0 for human, 1 for synthetic), author (human, or model name) and source for the source dataset. Then shard to disk as parquet.\n",
    "\n",
    "### 2.1. Hans"
   ]
  },
  {
   "cell_type": "code",
   "execution_count": 7,
   "metadata": {},
   "outputs": [
    {
     "name": "stdout",
     "output_type": "stream",
     "text": [
      "Parsed 22542 texts, 11271 human and 11271 synthetic\n"
     ]
    }
   ],
   "source": [
    "# Holder for results\n",
    "parsed_text={\n",
    "    'text': [],\n",
    "    'synthetic': [],\n",
    "    'author': [],\n",
    "    'source': []\n",
    "}\n",
    "\n",
    "# Counters\n",
    "human_texts=0\n",
    "synthetic_texts=0\n",
    "\n",
    "# Loop on the generating model and original text source\n",
    "for generating_model, data_source in product(hans_generating_models, hans_data_sources):\n",
    "\n",
    "    # Get the file path\n",
    "    file_path=f'{config.RAW_DATA_PATH}/hans/{generating_model}-{data_source}.jsonl'\n",
    "\n",
    "    # Loop on the JSON lines in the file, parsing each one\n",
    "    with open(file_path) as input_file:\n",
    "        for line in input_file:\n",
    "            data=json.loads(line)\n",
    "\n",
    "            # Get the generated text and add to parsed text\n",
    "            parsed_text['source'].append('hans')\n",
    "            parsed_text['synthetic'].append(1)\n",
    "            parsed_text['author'].append(generating_model)\n",
    "\n",
    "            if generating_model == 'llama2_13':\n",
    "                text=data['meta-llama-Llama-2-13b-hf_generated_text_wo_prompt']\n",
    "\n",
    "            elif generating_model == 'falcon7':\n",
    "                text=data['-fs-cml-models-Falcon-falcon-7b_generated_text_wo_prompt']\n",
    "\n",
    "            parsed_text['text'].append(text)\n",
    "\n",
    "            synthetic_texts+=1\n",
    "\n",
    "            # Get the human text and add to parsed text\n",
    "            parsed_text['source'].append('hans')\n",
    "            parsed_text['synthetic'].append(0)\n",
    "            parsed_text['author'].append('human')\n",
    "\n",
    "            if 'article' in data.keys():\n",
    "                text=data['article']\n",
    "\n",
    "            elif 'text' in data.keys():\n",
    "                text=data['text']\n",
    "\n",
    "            parsed_text['text'].append(text)\n",
    "\n",
    "            human_texts+=1\n",
    "\n",
    "print(f'Parsed {human_texts + synthetic_texts} texts, {human_texts} human and {synthetic_texts} synthetic')"
   ]
  },
  {
   "cell_type": "markdown",
   "metadata": {},
   "source": [
    "### 2.2. Gerami"
   ]
  },
  {
   "cell_type": "code",
   "execution_count": 8,
   "metadata": {},
   "outputs": [
    {
     "name": "stdout",
     "output_type": "stream",
     "text": [
      "Parsed 487235 texts, 305797 human and 181438 synthetic\n"
     ]
    }
   ],
   "source": [
    "# Data file path\n",
    "file_path=f'{config.RAW_DATA_PATH}/gerami/AI_Human.csv'\n",
    "\n",
    "# Counters\n",
    "human_texts=0\n",
    "synthetic_texts=0\n",
    "\n",
    "# Read the file\n",
    "with open(file_path, mode='r') as input_file:\n",
    "    reader=csv.reader(input_file)\n",
    "\n",
    "    # Loop on CSV rows, parsing each\n",
    "    for i, row in enumerate(reader):\n",
    "\n",
    "        # Skip the header row\n",
    "        if i > 0:\n",
    "            parsed_text['source'].append('gerami')\n",
    "\n",
    "            if row[1] == '0.0':\n",
    "                parsed_text['synthetic'].append(0)\n",
    "                parsed_text['author'].append('human')\n",
    "                human_texts+=1\n",
    "\n",
    "            if row[1] == '1.0':\n",
    "                parsed_text['synthetic'].append(1)\n",
    "                parsed_text['author'].append('unknown_model')\n",
    "                synthetic_texts+=1\n",
    "\n",
    "            parsed_text['text'].append(row[0])\n",
    "            \n",
    "print(f'Parsed {human_texts + synthetic_texts} texts, {human_texts} human and {synthetic_texts} synthetic')"
   ]
  },
  {
   "cell_type": "markdown",
   "metadata": {},
   "source": [
    "### 2.3. Grinberg\n",
    "\n",
    "Note: CSV file seems to have some bad quoting in it - fails to parse with `Error: field larger than field limit (131072)`, likely indicating a bad unterminated quotation in one of the texts."
   ]
  },
  {
   "cell_type": "code",
   "execution_count": 9,
   "metadata": {},
   "outputs": [
    {
     "name": "stdout",
     "output_type": "stream",
     "text": [
      "Parsed 788922 texts, 347692 human and 441230 synthetic\n"
     ]
    }
   ],
   "source": [
    "# Data file path\n",
    "file_path=f'{config.RAW_DATA_PATH}/grinberg/data.parquet'\n",
    "\n",
    "# Counters\n",
    "human_texts=0\n",
    "synthetic_texts=0\n",
    "\n",
    "# Read the file into a Pandas dataframe\n",
    "data_df=pd.read_parquet(file_path)\n",
    "data_df.head()\n",
    "\n",
    "# Extract texts and sources\n",
    "texts=data_df['text'].to_list()\n",
    "sources=data_df['source'].to_list()\n",
    "\n",
    "# Loop on text and source lists, parse and add the to results\n",
    "for text, source in zip(texts, sources):\n",
    "    parsed_text['source'].append('grinberg')\n",
    "\n",
    "    if source == 'Human':\n",
    "        parsed_text['synthetic'].append(0)\n",
    "        parsed_text['author'].append('human')\n",
    "        human_texts+=1\n",
    "\n",
    "    if source != 'Human':\n",
    "        parsed_text['synthetic'].append(1)\n",
    "        parsed_text['author'].append('unknown_model')\n",
    "        synthetic_texts+=1\n",
    "\n",
    "    parsed_text['text'].append(text)\n",
    "\n",
    "print(f'Parsed {human_texts + synthetic_texts} texts, {human_texts} human and {synthetic_texts} synthetic')"
   ]
  },
  {
   "cell_type": "markdown",
   "metadata": {},
   "source": [
    "### 2.4. Gaggar"
   ]
  },
  {
   "cell_type": "code",
   "execution_count": 10,
   "metadata": {},
   "outputs": [
    {
     "name": "stdout",
     "output_type": "stream",
     "text": [
      "Parsed 776945 texts, 400015 human and 376930 synthetic\n"
     ]
    }
   ],
   "source": [
    "# Data file path\n",
    "file_path=f'{config.RAW_DATA_PATH}/gaggar/Complete Dataset/FinalDataset.csv'\n",
    "\n",
    "# Counters\n",
    "human_texts=0\n",
    "synthetic_texts=0\n",
    "\n",
    "# Read the file\n",
    "with open(file_path, mode='r') as input_file:\n",
    "    reader=csv.reader(input_file)\n",
    "\n",
    "    # Loop on CSV rows, parsing each\n",
    "    for i, row in enumerate(reader):\n",
    "\n",
    "        # Skip the header row\n",
    "        if i > 0:\n",
    "            parsed_text['source'].append('gaggar')\n",
    "\n",
    "            if row[1] == '0':\n",
    "                parsed_text['synthetic'].append(0)\n",
    "                parsed_text['author'].append('human')\n",
    "                human_texts+=1\n",
    "\n",
    "            if row[1] == '1':\n",
    "                parsed_text['synthetic'].append(1)\n",
    "                parsed_text['author'].append('GPT-3.5-turbo')\n",
    "                synthetic_texts+=1\n",
    "\n",
    "            parsed_text['text'].append(row[0])\n",
    "            \n",
    "print(f'Parsed {human_texts + synthetic_texts} texts, {human_texts} human and {synthetic_texts} synthetic')"
   ]
  },
  {
   "cell_type": "markdown",
   "metadata": {},
   "source": [
    "### 2.5. Yatsenko\n",
    "\n",
    "Attempting to load files with `pyarrow.ipc.open_file` results in `ArrowInvalid: Not an Arrow file`. Looks like we have to load using HuggingFace's *datasets*."
   ]
  },
  {
   "cell_type": "code",
   "execution_count": 11,
   "metadata": {},
   "outputs": [
    {
     "name": "stdout",
     "output_type": "stream",
     "text": [
      "Parsed 1392522 texts, 1028146 human and 364376 synthetic\n"
     ]
    }
   ],
   "source": [
    "# Load the dataset\n",
    "utils.disable_progress_bar()\n",
    "dataset=load_dataset(f'{config.RAW_DATA_PATH}/yatsenko/data')\n",
    "\n",
    "# Counters\n",
    "human_texts=0\n",
    "synthetic_texts=0\n",
    "\n",
    "# Loop over and parse the dataset\n",
    "for i, record in enumerate(dataset['train']):\n",
    "\n",
    "    parsed_text['source'].append('yatsenko')\n",
    "\n",
    "    if record['source'] == 'human':\n",
    "        parsed_text['synthetic'].append(0)\n",
    "        parsed_text['author'].append('human')\n",
    "        human_texts+=1\n",
    "\n",
    "    if record['source'] == 'ai':\n",
    "        parsed_text['synthetic'].append(1)\n",
    "        parsed_text['author'].append('unknown_model')\n",
    "        synthetic_texts+=1\n",
    "\n",
    "    parsed_text['text'].append(record['text'])\n",
    "\n",
    "print(f'Parsed {human_texts + synthetic_texts} texts, {human_texts} human and {synthetic_texts} synthetic')"
   ]
  },
  {
   "cell_type": "markdown",
   "metadata": {},
   "source": [
    "## 3. Save the combined dataset"
   ]
  },
  {
   "cell_type": "code",
   "execution_count": 12,
   "metadata": {},
   "outputs": [
    {
     "name": "stdout",
     "output_type": "stream",
     "text": [
      "Have 3468166 texts\n",
      " Human: 2092921(60.3%)\n",
      " Synthetic: 1375245(39.7%)\n"
     ]
    }
   ],
   "source": [
    "# Get some summary stats about the file\n",
    "total_texts=len(parsed_text['synthetic'])\n",
    "synthetic_texts=sum(parsed_text['synthetic'])\n",
    "human_texts=total_texts - synthetic_texts\n",
    "percent_synthetic=(synthetic_texts/total_texts)*100\n",
    "percent_human=(human_texts/total_texts)*100\n",
    "\n",
    "print(f'Have {total_texts} texts')\n",
    "print(f' Human: {human_texts}({percent_human:.1f}%)')\n",
    "print(f' Synthetic: {synthetic_texts}({percent_synthetic:.1f}%)')"
   ]
  },
  {
   "cell_type": "code",
   "execution_count": 13,
   "metadata": {},
   "outputs": [],
   "source": [
    "# Set up output directory\n",
    "output_directory=f'{config.INTERMEDIATE_DATA_PATH}'\n",
    "Path(output_directory).mkdir(parents=True, exist_ok=True)\n",
    "\n",
    "# Save it as JSON\n",
    "with open(f'{output_directory}/all_texts.json', 'w', encoding='utf-8') as output_file:\n",
    "    json.dump(parsed_text, output_file, ensure_ascii=False, indent=4)"
   ]
  },
  {
   "cell_type": "markdown",
   "metadata": {},
   "source": [
    "Final file is 7.29 GB on disk."
   ]
  }
 ],
 "metadata": {
  "kernelspec": {
   "display_name": ".venv",
   "language": "python",
   "name": "python3"
  },
  "language_info": {
   "codemirror_mode": {
    "name": "ipython",
    "version": 3
   },
   "file_extension": ".py",
   "mimetype": "text/x-python",
   "name": "python",
   "nbconvert_exporter": "python",
   "pygments_lexer": "ipython3",
   "version": "3.8.16"
  }
 },
 "nbformat": 4,
 "nbformat_minor": 2
}
